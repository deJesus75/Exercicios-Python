{
 "cells": [
  {
   "cell_type": "code",
   "execution_count": 5,
   "id": "708c650a",
   "metadata": {
    "ExecuteTime": {
     "end_time": "2021-10-16T14:00:08.439274Z",
     "start_time": "2021-10-16T14:00:08.421138Z"
    }
   },
   "outputs": [],
   "source": [
    "import logging\n",
    "                \n",
    "#Criação e configuração do objeto logger\n",
    "FORMATACAO_MSG = \"%(asctime)s | %(levelname)s -> %(message)s\"\n",
    "                                            \n",
    "logging.basicConfig(filename = 'logs.log',level = logging.DEBUG, format = FORMATACAO_MSG,filemode = 'w')\n",
    "                                            \n",
    "logger = logging.getLogger()\n",
    "                                            \n",
    "#Testando o logger\n",
    "logger.debug('depuração')\n",
    "logger.info('informação')\n",
    "logger.warning('aviso')\n",
    "logger.error('erro')\n",
    "logger.critical('critico')"
   ]
  },
  {
   "cell_type": "code",
   "execution_count": null,
   "id": "c0b44934",
   "metadata": {},
   "outputs": [],
   "source": []
  }
 ],
 "metadata": {
  "hide_input": false,
  "kernelspec": {
   "display_name": "Python 3",
   "language": "python",
   "name": "python3"
  },
  "language_info": {
   "codemirror_mode": {
    "name": "ipython",
    "version": 3
   },
   "file_extension": ".py",
   "mimetype": "text/x-python",
   "name": "python",
   "nbconvert_exporter": "python",
   "pygments_lexer": "ipython3",
   "version": "3.8.8"
  },
  "toc": {
   "base_numbering": 1,
   "nav_menu": {},
   "number_sections": true,
   "sideBar": true,
   "skip_h1_title": true,
   "title_cell": "Table of Contents",
   "title_sidebar": "Contents",
   "toc_cell": false,
   "toc_position": {},
   "toc_section_display": true,
   "toc_window_display": false
  },
  "varInspector": {
   "cols": {
    "lenName": 16,
    "lenType": 16,
    "lenVar": 40
   },
   "kernels_config": {
    "python": {
     "delete_cmd_postfix": "",
     "delete_cmd_prefix": "del ",
     "library": "var_list.py",
     "varRefreshCmd": "print(var_dic_list())"
    },
    "r": {
     "delete_cmd_postfix": ") ",
     "delete_cmd_prefix": "rm(",
     "library": "var_list.r",
     "varRefreshCmd": "cat(var_dic_list()) "
    }
   },
   "types_to_exclude": [
    "module",
    "function",
    "builtin_function_or_method",
    "instance",
    "_Feature"
   ],
   "window_display": false
  }
 },
 "nbformat": 4,
 "nbformat_minor": 5
}

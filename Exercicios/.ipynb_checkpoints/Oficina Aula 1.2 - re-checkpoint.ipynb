{
 "cells": [
  {
   "cell_type": "markdown",
   "id": "7a090091",
   "metadata": {},
   "source": [
    "\n",
    "Oficina Aula 1.2\n",
    "\n",
    "Geralmente, os logs são configurados para registrar as mensagens de maior gravidade. Em contrapartida, o modo debug é utilizado somente quando o programa apresenta falhas e é necessário fazer uma auditoria para encontrar o problema.\n",
    "\n",
    "A seguir, considere o caso descrito para resolver a questão.\n",
    "\n",
    "Imagine que você é o cientista de dados de uma grande empresa e, como um bom colaborador, decidiu analisar os dados de log de um programa essencial da empresa, com o intuito de avaliar como o programa se comportou durante um ano de funcionamento.\n",
    "\n",
    "Ao receber o arquivo de log, você percebeu que há dados de pelo menos um ano inteiro e que o arquivo possui 4 Gigabytes de tamanho. Então, você decidiu utilizar expressão regular para avaliar aquele comportamento.\n",
    "\n",
    "Para isso, você precisou construir um código que informasse a quantidade de erros ocorridos e quais os horários em que mais ocorrem erro. Estas informações serão uteis para lhe ajudar a investigar a causa do problema.\n",
    "\n",
    "Sabendo que o log possui uma formatação clara (Dia-Mês-Ano Hora:Minuto:Segundo:Milesimos_de_segundos | Nivel_de_gravidade -> Mensagem), utilize a string a seguir como exemplo para fazer o seu código. Ao final, envie seu código em Python, ou seja, um arquivo com a extensão ‘py’, para avaliarmos como você resolveu esse problema.\n",
    "\n",
    "2020-05-10 20:42:54,687 | INFO -> O programa foi iniciado\n",
    "2020-05-11 00:09:52,532 | ERROR -> Erro não esperado\n",
    "2020-05-11 09:01:10,812 | INFO -> O usuário utilizou o sistema\n",
    "2020-05-11 19:06:13,609 | INFO -> O usuário utilizou o sistema\n",
    "2020-05-11 20:46:35,271 | ERROR -> Erro não esperado\n",
    "2020-05-12 08:14:59,895 | ERROR -> Erro não esperado\n",
    "2020-05-12 11:33:59,700 | INFO -> O usuário utilizou o sistema\n",
    "2020-05-13 10:20:14,673 | INFO -> O usuário utilizou o sistema\n",
    "2020-05-13 16:58:10,298 | WARNING -> O usuário tentou fazer uma operação invalida\n",
    "2020-05-14 03:55:25,383 | INFO -> O usuário utilizou o sistema\n",
    "2020-05-15 02:59:29,002 | INFO -> O usuário utilizou o sistema\n",
    "2020-05-15 08:40:33,776 | ERROR -> Erro não esperado\n",
    "2020-05-15 13:45:29,089 | WARNING -> O usuário tentou fazer uma operação invalida\n"
   ]
  },
  {
   "cell_type": "code",
   "execution_count": 41,
   "id": "76918b39",
   "metadata": {
    "ExecuteTime": {
     "end_time": "2021-10-16T20:58:55.534749Z",
     "start_time": "2021-10-16T20:58:55.519090Z"
    }
   },
   "outputs": [],
   "source": [
    "import re\n",
    "dado =['2020-05-10 20:42:54,687 | INFO -> O programa foi iniciado',\n",
    "       '2020-05-11 00:09:52,532 | ERROR -> Erro não esperado',\n",
    "       '2020-05-11 09:01:10,812 | INFO -> O usuário utilizou o sistema',\n",
    "       '2020-05-11 19:06:13,609 | INFO -> O usuário utilizou o sistema',\n",
    "       '2020-05-11 20:46:35,271 | ERROR -> Erro não esperado',\n",
    "       '2020-05-12 08:14:59,895 | ERROR -> Erro não esperado',\n",
    "       '2020-05-12 11:33:59,700 | INFO -> O usuário utilizou o sistema',\n",
    "       '2020-05-13 10:20:14,673 | INFO -> O usuário utilizou o sistema',\n",
    "       '2020-05-13 16:58:10,298 | WARNING -> O usuário tentou fazer uma operação invalida',\n",
    "       '2020-05-14 03:55:25,383 | INFO -> O usuário utilizou o sistema',\n",
    "       '2020-05-15 02:59:29,002 | INFO -> O usuário utilizou o sistema',\n",
    "       '2020-05-15 08:40:33,776 | ERROR -> Erro não esperado',\n",
    "       '2020-05-15 13:45:29,089 | WARNING -> O usuário tentou fazer uma operação invalida']"
   ]
  },
  {
   "cell_type": "code",
   "execution_count": 42,
   "id": "a14526b7",
   "metadata": {
    "ExecuteTime": {
     "end_time": "2021-10-16T20:59:01.853184Z",
     "start_time": "2021-10-16T20:59:01.837563Z"
    }
   },
   "outputs": [],
   "source": [
    "def verifica_hora_erro(dado):\n",
    "    hora = re.findall(r'\\d{2}\\W\\d{2}\\W\\d{2}\\W\\d{3}',dado)\n",
    "    nivel = re.findall(r'[|]\\s\\w+\\s',dado)\n",
    "    if nivel[0] == '| ERROR ':\n",
    "        return hora[0]\n",
    "    else:\n",
    "        return False"
   ]
  },
  {
   "cell_type": "code",
   "execution_count": 43,
   "id": "4a95f3e3",
   "metadata": {
    "ExecuteTime": {
     "end_time": "2021-10-16T21:01:22.724382Z",
     "start_time": "2021-10-16T21:01:22.708758Z"
    }
   },
   "outputs": [],
   "source": [
    "hora_erro=[]\n",
    "for entrada in dado:\n",
    "    if verifica_hora_erro(entrada)!= False:\n",
    "        hora_erro.append(verifica_hora_erro(entrada))"
   ]
  },
  {
   "cell_type": "code",
   "execution_count": 45,
   "id": "b6237d29",
   "metadata": {
    "ExecuteTime": {
     "end_time": "2021-10-16T21:05:32.102319Z",
     "start_time": "2021-10-16T21:05:32.064552Z"
    }
   },
   "outputs": [
    {
     "name": "stdout",
     "output_type": "stream",
     "text": [
      "São 4 erros nesses horarios ['00:09:52,532', '20:46:35,271', '08:14:59,895', '08:40:33,776']\n"
     ]
    }
   ],
   "source": [
    "print(f'São {len(hora_erro)} erros nesses horarios {hora_erro}')"
   ]
  },
  {
   "cell_type": "code",
   "execution_count": null,
   "id": "68a23bef",
   "metadata": {},
   "outputs": [],
   "source": []
  }
 ],
 "metadata": {
  "hide_input": false,
  "kernelspec": {
   "display_name": "Python 3",
   "language": "python",
   "name": "python3"
  },
  "language_info": {
   "codemirror_mode": {
    "name": "ipython",
    "version": 3
   },
   "file_extension": ".py",
   "mimetype": "text/x-python",
   "name": "python",
   "nbconvert_exporter": "python",
   "pygments_lexer": "ipython3",
   "version": "3.8.8"
  },
  "toc": {
   "base_numbering": 1,
   "nav_menu": {},
   "number_sections": true,
   "sideBar": true,
   "skip_h1_title": true,
   "title_cell": "Table of Contents",
   "title_sidebar": "Contents",
   "toc_cell": false,
   "toc_position": {},
   "toc_section_display": true,
   "toc_window_display": false
  },
  "varInspector": {
   "cols": {
    "lenName": 16,
    "lenType": 16,
    "lenVar": 40
   },
   "kernels_config": {
    "python": {
     "delete_cmd_postfix": "",
     "delete_cmd_prefix": "del ",
     "library": "var_list.py",
     "varRefreshCmd": "print(var_dic_list())"
    },
    "r": {
     "delete_cmd_postfix": ") ",
     "delete_cmd_prefix": "rm(",
     "library": "var_list.r",
     "varRefreshCmd": "cat(var_dic_list()) "
    }
   },
   "types_to_exclude": [
    "module",
    "function",
    "builtin_function_or_method",
    "instance",
    "_Feature"
   ],
   "window_display": false
  }
 },
 "nbformat": 4,
 "nbformat_minor": 5
}

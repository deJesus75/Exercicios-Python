{
 "cells": [
  {
   "cell_type": "markdown",
   "id": "e2ad22f3",
   "metadata": {
    "ExecuteTime": {
     "end_time": "2021-10-23T21:36:33.243562Z",
     "start_time": "2021-10-23T21:36:33.212529Z"
    }
   },
   "source": [
    "\n",
    "# Oficina Aula 1.3\n",
    "\n",
    "Durante a aula, você aprendeu a utilizar o módulo datetime e seus tipos para trabalhar com informação de data e hora. Agora é a vez de praticar os seus conhecimentos. Para esta atividade, considere a situação e os dados a seguir.\n",
    "\n",
    "Seus amigos sabem que você está trabalhando com Python e estão entusiasmados com as possibilidades de aplicações. Um deles é muito esquecido e sugeriu que você fizesse um programa que o alerte quando for o aniversário de alguém do seu grupo de amigos.\n",
    "\n",
    "Você pediu aos seus amigos que anotassem as datas de seus aniversários em uma lista, conforme está descrito a seguir, mas cada pessoa escreveu de uma forma diferente, então, cabe a você interpretá-la adequadamente:\n",
    "\n",
    "aniversarios = ['01/02/1990', '22 de Maio de 1991', '04/Abr/1995', '1995-Outubro-10', '12 Julho 1989', '16 de Junho de 1987', '04/07/1990'].\n",
    "\n",
    "Para isso, o recomendado é criar uma lista de formatos correspondentes e aplicá-la à lista de datas de aniversários. O seu objetivo é criar um programa que converta a lista de datas de tipo string em uma lista de objetos do tipo data e organizá-los por ordem de aniversário no ano. Isso significa que primeiro vem o mês e, em seguida, o dia como critério de ordenação.\n",
    "\n",
    "Depois, você deve verificar se o dia de hoje é aniversário de alguém. Caso seja, você deve escrever a string “Hoje, (DIA DA SEMANA) (DIA) de (MÊS) de (ANO ATUAL), tem aniversário!”, em que as palavras DIA DA SEMANA, DIA, MÊS e ANO ATUAL devem ser substituídas pelos seus respectivos valores. As informações devem estar escritas em português.\n",
    "\n",
    "Quando você terminar, envie a resposta em um arquivo Python para a plataforma. Bom trabalho!\n"
   ]
  },
  {
   "cell_type": "code",
   "execution_count": 25,
   "id": "68713041",
   "metadata": {
    "ExecuteTime": {
     "end_time": "2021-10-23T23:24:41.393214Z",
     "start_time": "2021-10-23T23:24:41.007174Z"
    }
   },
   "outputs": [
    {
     "data": {
      "text/plain": [
       "'pt_BR'"
      ]
     },
     "execution_count": 25,
     "metadata": {},
     "output_type": "execute_result"
    }
   ],
   "source": [
    "from datetime import datetime as dt\n",
    "import re \n",
    "import locale\n",
    "locale.setlocale(locale.LC_ALL, 'pt_BR')"
   ]
  },
  {
   "cell_type": "code",
   "execution_count": 20,
   "id": "bf8c51fc",
   "metadata": {
    "ExecuteTime": {
     "end_time": "2021-10-23T22:49:21.592508Z",
     "start_time": "2021-10-23T22:49:21.545788Z"
    }
   },
   "outputs": [],
   "source": [
    "aniversarios = ['01/02/1990', '22 de Maio de 1991', '04/Abr/1995', '1995-Outubro-10', '12 Julho 1989', '16 de Junho de 1987', '04/07/1990']"
   ]
  },
  {
   "cell_type": "code",
   "execution_count": 79,
   "id": "d07527e0",
   "metadata": {
    "ExecuteTime": {
     "end_time": "2021-10-24T02:37:01.623750Z",
     "start_time": "2021-10-24T02:37:01.545647Z"
    }
   },
   "outputs": [],
   "source": [
    "def separa_data(lista):\n",
    "    #pega uma lista de strings e devolve uma lista datetime\n",
    "    expressao = [r'\\d{2}\\W\\d{2}\\W\\d{4}',r'\\d{2}\\s\\D{2}\\s\\D+\\s\\D{2}\\s\\d{4}',r'\\d{2}\\s[^de]\\D+\\s\\d{4}',r'\\d{4}\\W\\D+\\W\\d{2}',r'\\d{2}[/][^\\sde]\\D+[/]\\d{4}']\n",
    "    d1 = [] \n",
    "    for d in lista:\n",
    "        for e in range(len(expressao)):\n",
    "            data = re.search(expressao[e], d)\n",
    "            if data != None:\n",
    "                if e==0:\n",
    "                    d1.append(dt.strptime(data.group(),'%d/%m/%Y'))\n",
    "                if e==1:\n",
    "                    d1.append(dt.strptime(data.group(),'%d de %B de %Y'))\n",
    "                if e==2:\n",
    "                    d1.append(dt.strptime(data.group(),'%d %B %Y'))\n",
    "                if e==3:\n",
    "                    d1.append(dt.strptime(data.group(),'%Y-%B-%d'))\n",
    "                if e==4:\n",
    "                    d1.append(dt.strptime(data.group(),'%d/%b/%Y'))\n",
    "    return d1"
   ]
  },
  {
   "cell_type": "code",
   "execution_count": 85,
   "id": "6fa89cd7",
   "metadata": {
    "ExecuteTime": {
     "end_time": "2021-10-24T02:47:24.938267Z",
     "start_time": "2021-10-24T02:47:24.900867Z"
    }
   },
   "outputs": [
    {
     "data": {
      "text/plain": [
       "[datetime.datetime(1990, 2, 1, 0, 0),\n",
       " datetime.datetime(1995, 4, 4, 0, 0),\n",
       " datetime.datetime(1991, 5, 22, 0, 0),\n",
       " datetime.datetime(1987, 6, 16, 0, 0),\n",
       " datetime.datetime(1990, 7, 4, 0, 0),\n",
       " datetime.datetime(1989, 7, 12, 0, 0),\n",
       " datetime.datetime(1995, 10, 10, 0, 0)]"
      ]
     },
     "execution_count": 85,
     "metadata": {},
     "output_type": "execute_result"
    }
   ],
   "source": [
    "niver = separa_data(aniversarios)\n",
    "niver =sorted(niver, key=lambda d: (d.month, d.day))\n",
    "niver"
   ]
  },
  {
   "cell_type": "code",
   "execution_count": 98,
   "id": "d2396287",
   "metadata": {
    "ExecuteTime": {
     "end_time": "2021-10-24T03:13:39.877104Z",
     "start_time": "2021-10-24T03:13:39.861483Z"
    }
   },
   "outputs": [],
   "source": [
    "def verifica_data(d1,d2):\n",
    "    if d1.month == d2.month:\n",
    "        if d1.day == d2.day:\n",
    "            return True\n",
    "        else:\n",
    "            return false\n",
    "        "
   ]
  },
  {
   "cell_type": "code",
   "execution_count": 104,
   "id": "828fa9a4",
   "metadata": {
    "ExecuteTime": {
     "end_time": "2021-10-24T03:26:08.426247Z",
     "start_time": "2021-10-24T03:26:08.404067Z"
    }
   },
   "outputs": [],
   "source": [
    "def verifica_lista(agora,lista):\n",
    "    for d in lista:\n",
    "        if verifica_data(agora,d):\n",
    "            print( agora.strftime('Hoje, %A %d de %B de %Y, tem aniversário! '))\n",
    "            break"
   ]
  },
  {
   "cell_type": "code",
   "execution_count": 110,
   "id": "b53e3251",
   "metadata": {
    "ExecuteTime": {
     "end_time": "2021-10-24T03:28:42.476649Z",
     "start_time": "2021-10-24T03:28:42.445683Z"
    }
   },
   "outputs": [],
   "source": [
    "hoje = dt(2021,10,10)"
   ]
  },
  {
   "cell_type": "code",
   "execution_count": 111,
   "id": "273770e3",
   "metadata": {
    "ExecuteTime": {
     "end_time": "2021-10-24T03:28:44.654103Z",
     "start_time": "2021-10-24T03:28:44.623206Z"
    }
   },
   "outputs": [
    {
     "name": "stdout",
     "output_type": "stream",
     "text": [
      "Hoje, domingo 10 de outubro de 2021, tem aniversário! \n"
     ]
    }
   ],
   "source": [
    "verifica_lista(hoje,niver)"
   ]
  },
  {
   "cell_type": "code",
   "execution_count": null,
   "id": "d0758024",
   "metadata": {},
   "outputs": [],
   "source": []
  }
 ],
 "metadata": {
  "hide_input": false,
  "kernelspec": {
   "display_name": "Python 3",
   "language": "python",
   "name": "python3"
  },
  "language_info": {
   "codemirror_mode": {
    "name": "ipython",
    "version": 3
   },
   "file_extension": ".py",
   "mimetype": "text/x-python",
   "name": "python",
   "nbconvert_exporter": "python",
   "pygments_lexer": "ipython3",
   "version": "3.8.8"
  },
  "toc": {
   "base_numbering": 1,
   "nav_menu": {},
   "number_sections": true,
   "sideBar": true,
   "skip_h1_title": true,
   "title_cell": "Table of Contents",
   "title_sidebar": "Contents",
   "toc_cell": false,
   "toc_position": {},
   "toc_section_display": true,
   "toc_window_display": false
  },
  "varInspector": {
   "cols": {
    "lenName": 16,
    "lenType": 16,
    "lenVar": 40
   },
   "kernels_config": {
    "python": {
     "delete_cmd_postfix": "",
     "delete_cmd_prefix": "del ",
     "library": "var_list.py",
     "varRefreshCmd": "print(var_dic_list())"
    },
    "r": {
     "delete_cmd_postfix": ") ",
     "delete_cmd_prefix": "rm(",
     "library": "var_list.r",
     "varRefreshCmd": "cat(var_dic_list()) "
    }
   },
   "types_to_exclude": [
    "module",
    "function",
    "builtin_function_or_method",
    "instance",
    "_Feature"
   ],
   "window_display": false
  }
 },
 "nbformat": 4,
 "nbformat_minor": 5
}

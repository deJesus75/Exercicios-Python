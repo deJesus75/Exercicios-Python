{
 "cells": [
  {
   "cell_type": "code",
   "execution_count": 2,
   "id": "3590dbb1",
   "metadata": {
    "ExecuteTime": {
     "end_time": "2021-09-15T02:06:25.056113Z",
     "start_time": "2021-09-15T02:06:25.044118Z"
    }
   },
   "outputs": [],
   "source": [
    "cursos = [\n",
    "  'Engenharia de Software',\n",
    "   'Python para Data Science',\n",
    "   'Introdução a Java'\n",
    " ]"
   ]
  },
  {
   "cell_type": "code",
   "execution_count": 3,
   "id": "60978c52",
   "metadata": {
    "ExecuteTime": {
     "end_time": "2021-09-15T02:06:25.233722Z",
     "start_time": "2021-09-15T02:06:25.060115Z"
    }
   },
   "outputs": [],
   "source": [
    " respostas = [1, 2, 0, 1, 1, 1, 1, 0, 0, 2, 2, 0, 1, 1,\n",
    "   1, 1, 2, 0, 1, 1, 0, 1, 0, 2, 1, 1, 0, 2,\n",
    "   2, 1, 0, 1, 1, 0, 0, 0, 1, 1, 2, 1\n",
    " ]"
   ]
  },
  {
   "cell_type": "code",
   "execution_count": 4,
   "id": "a5e60cec",
   "metadata": {
    "ExecuteTime": {
     "end_time": "2021-09-15T02:06:25.391741Z",
     "start_time": "2021-09-15T02:06:25.237720Z"
    }
   },
   "outputs": [],
   "source": [
    "total0 = respostas.count(0)\n",
    "total1 = respostas.count(1)\n",
    "total2 = respostas.count(2)\n",
    "total = len(respostas)"
   ]
  },
  {
   "cell_type": "code",
   "execution_count": 5,
   "id": "3ebd5a94",
   "metadata": {
    "ExecuteTime": {
     "end_time": "2021-09-15T02:06:25.598279Z",
     "start_time": "2021-09-15T02:06:25.399742Z"
    }
   },
   "outputs": [],
   "source": [
    "totais = [total0,total1,total2]"
   ]
  },
  {
   "cell_type": "code",
   "execution_count": 7,
   "id": "ef6c377f",
   "metadata": {
    "ExecuteTime": {
     "end_time": "2021-09-15T02:06:40.319709Z",
     "start_time": "2021-09-15T02:06:40.289557Z"
    }
   },
   "outputs": [
    {
     "name": "stdout",
     "output_type": "stream",
     "text": [
      "Engenharia de Software teve 12 votos, que corresponde 30.0%\n",
      "Python para Data Science teve 20 votos, que corresponde 50.0%\n",
      "Introdução a Java teve 8 votos, que corresponde 20.0%\n",
      "Python para Data Science foi o mais votado\n"
     ]
    }
   ],
   "source": [
    "indice = 0\n",
    "for n in range(0,3):\n",
    "    if totais[indice]<totais[n]:\n",
    "        indice=n\n",
    "    print(\"{} teve {} votos, que corresponde {}%\".format(cursos[n],totais[n],totais[n]/total*100))\n",
    "print(\"{} foi o mais votado\".format(cursos[indice]))"
   ]
  }
 ],
 "metadata": {
  "hide_input": false,
  "kernelspec": {
   "display_name": "Python 3",
   "language": "python",
   "name": "python3"
  },
  "language_info": {
   "codemirror_mode": {
    "name": "ipython",
    "version": 3
   },
   "file_extension": ".py",
   "mimetype": "text/x-python",
   "name": "python",
   "nbconvert_exporter": "python",
   "pygments_lexer": "ipython3",
   "version": "3.8.8"
  },
  "toc": {
   "base_numbering": 1,
   "nav_menu": {},
   "number_sections": true,
   "sideBar": true,
   "skip_h1_title": true,
   "title_cell": "Table of Contents",
   "title_sidebar": "Contents",
   "toc_cell": false,
   "toc_position": {},
   "toc_section_display": true,
   "toc_window_display": false
  },
  "varInspector": {
   "cols": {
    "lenName": 16,
    "lenType": 16,
    "lenVar": 40
   },
   "kernels_config": {
    "python": {
     "delete_cmd_postfix": "",
     "delete_cmd_prefix": "del ",
     "library": "var_list.py",
     "varRefreshCmd": "print(var_dic_list())"
    },
    "r": {
     "delete_cmd_postfix": ") ",
     "delete_cmd_prefix": "rm(",
     "library": "var_list.r",
     "varRefreshCmd": "cat(var_dic_list()) "
    }
   },
   "types_to_exclude": [
    "module",
    "function",
    "builtin_function_or_method",
    "instance",
    "_Feature"
   ],
   "window_display": false
  }
 },
 "nbformat": 4,
 "nbformat_minor": 5
}

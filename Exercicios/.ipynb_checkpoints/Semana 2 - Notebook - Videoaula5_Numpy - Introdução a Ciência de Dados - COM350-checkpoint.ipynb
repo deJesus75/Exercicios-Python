{
 "cells": [
  {
   "cell_type": "markdown",
   "metadata": {
    "id": "TEoytjq3l-N4"
   },
   "source": [
    "#Demonstração NumPY \n",
    "###Disciplina - Introdução a Ciência de Dados - Univesp\n",
    "###Videoaula 5\n",
    "###Prof. Dr. José Eduardo Santarem Segundo"
   ]
  },
  {
   "cell_type": "markdown",
   "metadata": {
    "id": "jpOLq5GYkRN5"
   },
   "source": [
    "#Importar Biblioteca"
   ]
  },
  {
   "cell_type": "code",
   "execution_count": null,
   "metadata": {
    "id": "cFSkgT1kkG8s"
   },
   "outputs": [],
   "source": [
    "import numpy as np"
   ]
  },
  {
   "cell_type": "markdown",
   "metadata": {
    "id": "mrv4hSqPkVgo"
   },
   "source": [
    "#Gerar Dados Aleatórios"
   ]
  },
  {
   "cell_type": "markdown",
   "metadata": {
    "id": "YAwBfOaPkzka"
   },
   "source": [
    "##Gerar um NDArray de 2x3 (duas lista com 3 elementos)"
   ]
  },
  {
   "cell_type": "code",
   "execution_count": null,
   "metadata": {
    "id": "DjywrbJ1kTOd"
   },
   "outputs": [],
   "source": [
    "dados=np.random.rand(2,3)"
   ]
  },
  {
   "cell_type": "code",
   "execution_count": null,
   "metadata": {
    "colab": {
     "base_uri": "https://localhost:8080/"
    },
    "executionInfo": {
     "elapsed": 214,
     "status": "ok",
     "timestamp": 1632769433879,
     "user": {
      "displayName": "Jose Eduardo Santarem Segundo",
      "photoUrl": "https://lh3.googleusercontent.com/a-/AOh14GjLWfnjBdxVqYk-cgCgmPPwQImjjL3LNJ8YGfE=s64",
      "userId": "13621550804954747560"
     },
     "user_tz": 180
    },
    "id": "sXgOUiCJkol-",
    "outputId": "1e170172-6fe5-4151-cd1d-97c5270c2ef1"
   },
   "outputs": [
    {
     "data": {
      "text/plain": [
       "array([[0.46751893, 0.52445558, 0.10204545],\n",
       "       [0.05423262, 0.1979185 , 0.8055835 ]])"
      ]
     },
     "execution_count": 3,
     "metadata": {},
     "output_type": "execute_result"
    }
   ],
   "source": [
    "dados"
   ]
  },
  {
   "cell_type": "markdown",
   "metadata": {
    "id": "V4Ev9oXtkpEC"
   },
   "source": [
    "#Tipo do Array"
   ]
  },
  {
   "cell_type": "code",
   "execution_count": null,
   "metadata": {
    "colab": {
     "base_uri": "https://localhost:8080/"
    },
    "executionInfo": {
     "elapsed": 201,
     "status": "ok",
     "timestamp": 1632769474104,
     "user": {
      "displayName": "Jose Eduardo Santarem Segundo",
      "photoUrl": "https://lh3.googleusercontent.com/a-/AOh14GjLWfnjBdxVqYk-cgCgmPPwQImjjL3LNJ8YGfE=s64",
      "userId": "13621550804954747560"
     },
     "user_tz": 180
    },
    "id": "mgnd5vNfksE7",
    "outputId": "67881538-e248-4dd1-c91b-3574ce039793"
   },
   "outputs": [
    {
     "data": {
      "text/plain": [
       "dtype('float64')"
      ]
     },
     "execution_count": 4,
     "metadata": {},
     "output_type": "execute_result"
    }
   ],
   "source": [
    "dados.dtype"
   ]
  },
  {
   "cell_type": "markdown",
   "metadata": {
    "id": "jIO1uyWalCVb"
   },
   "source": [
    "#Tamanho e quantidade de dimensões"
   ]
  },
  {
   "cell_type": "code",
   "execution_count": null,
   "metadata": {
    "colab": {
     "base_uri": "https://localhost:8080/"
    },
    "executionInfo": {
     "elapsed": 256,
     "status": "ok",
     "timestamp": 1632769498856,
     "user": {
      "displayName": "Jose Eduardo Santarem Segundo",
      "photoUrl": "https://lh3.googleusercontent.com/a-/AOh14GjLWfnjBdxVqYk-cgCgmPPwQImjjL3LNJ8YGfE=s64",
      "userId": "13621550804954747560"
     },
     "user_tz": 180
    },
    "id": "244eBe1rlEnU",
    "outputId": "22f6f0a1-e473-4b4c-92d7-77bf6437548d"
   },
   "outputs": [
    {
     "data": {
      "text/plain": [
       "(2, 3)"
      ]
     },
     "execution_count": 5,
     "metadata": {},
     "output_type": "execute_result"
    }
   ],
   "source": [
    "dados.shape"
   ]
  },
  {
   "cell_type": "code",
   "execution_count": null,
   "metadata": {
    "colab": {
     "base_uri": "https://localhost:8080/"
    },
    "executionInfo": {
     "elapsed": 216,
     "status": "ok",
     "timestamp": 1632769519068,
     "user": {
      "displayName": "Jose Eduardo Santarem Segundo",
      "photoUrl": "https://lh3.googleusercontent.com/a-/AOh14GjLWfnjBdxVqYk-cgCgmPPwQImjjL3LNJ8YGfE=s64",
      "userId": "13621550804954747560"
     },
     "user_tz": 180
    },
    "id": "d6IRA3j9lNLP",
    "outputId": "44a67c7b-fdfb-4cce-e8a5-3b48ff5cc701"
   },
   "outputs": [
    {
     "data": {
      "text/plain": [
       "2"
      ]
     },
     "execution_count": 6,
     "metadata": {},
     "output_type": "execute_result"
    }
   ],
   "source": [
    "dados.ndim"
   ]
  },
  {
   "cell_type": "markdown",
   "metadata": {
    "id": "X5ucpkoIlNaY"
   },
   "source": [
    "#Criar ndarray usando a função array\n",
    "##Ao criar o array a função array tenta utilizar o melhor tipo de dado"
   ]
  },
  {
   "cell_type": "code",
   "execution_count": null,
   "metadata": {
    "id": "ATn3OAb3lVug"
   },
   "outputs": [],
   "source": [
    "lista=[1,2,5,7.8,1.25]"
   ]
  },
  {
   "cell_type": "code",
   "execution_count": null,
   "metadata": {
    "id": "3F1psHfslfm6"
   },
   "outputs": [],
   "source": [
    "dados2=np.array(lista)"
   ]
  },
  {
   "cell_type": "code",
   "execution_count": null,
   "metadata": {
    "colab": {
     "base_uri": "https://localhost:8080/"
    },
    "executionInfo": {
     "elapsed": 202,
     "status": "ok",
     "timestamp": 1632769590433,
     "user": {
      "displayName": "Jose Eduardo Santarem Segundo",
      "photoUrl": "https://lh3.googleusercontent.com/a-/AOh14GjLWfnjBdxVqYk-cgCgmPPwQImjjL3LNJ8YGfE=s64",
      "userId": "13621550804954747560"
     },
     "user_tz": 180
    },
    "id": "opxmWm4slfzw",
    "outputId": "d5865fe8-379e-4446-e7d0-eaa58d7b7c8a"
   },
   "outputs": [
    {
     "data": {
      "text/plain": [
       "array([1.  , 2.  , 5.  , 7.8 , 1.25])"
      ]
     },
     "execution_count": 9,
     "metadata": {},
     "output_type": "execute_result"
    }
   ],
   "source": [
    "dados2"
   ]
  },
  {
   "cell_type": "code",
   "execution_count": null,
   "metadata": {
    "id": "J8s9rrB6lf_W"
   },
   "outputs": [],
   "source": [
    "lista2=[[1,2,3,4],[4,3,2,1]]"
   ]
  },
  {
   "cell_type": "code",
   "execution_count": null,
   "metadata": {
    "id": "sK2aaqR5lgJ6"
   },
   "outputs": [],
   "source": [
    "dados3=np.array(lista2)"
   ]
  },
  {
   "cell_type": "code",
   "execution_count": null,
   "metadata": {
    "colab": {
     "base_uri": "https://localhost:8080/"
    },
    "executionInfo": {
     "elapsed": 201,
     "status": "ok",
     "timestamp": 1632769648684,
     "user": {
      "displayName": "Jose Eduardo Santarem Segundo",
      "photoUrl": "https://lh3.googleusercontent.com/a-/AOh14GjLWfnjBdxVqYk-cgCgmPPwQImjjL3LNJ8YGfE=s64",
      "userId": "13621550804954747560"
     },
     "user_tz": 180
    },
    "id": "KkIo6XA4lgVf",
    "outputId": "34644abe-c3fc-4170-80c0-40de64abd50b"
   },
   "outputs": [
    {
     "data": {
      "text/plain": [
       "array([[1, 2, 3, 4],\n",
       "       [4, 3, 2, 1]])"
      ]
     },
     "execution_count": 12,
     "metadata": {},
     "output_type": "execute_result"
    }
   ],
   "source": [
    "dados3"
   ]
  },
  {
   "cell_type": "markdown",
   "metadata": {
    "id": "s3fEaqPDlg5t"
   },
   "source": [
    "#Outras maneiras de criar arrays"
   ]
  },
  {
   "cell_type": "code",
   "execution_count": null,
   "metadata": {
    "id": "4M0bvr9qlkmX"
   },
   "outputs": [],
   "source": [
    "dadoszero=np.zeros(10)"
   ]
  },
  {
   "cell_type": "code",
   "execution_count": null,
   "metadata": {
    "colab": {
     "base_uri": "https://localhost:8080/"
    },
    "executionInfo": {
     "elapsed": 237,
     "status": "ok",
     "timestamp": 1632769705694,
     "user": {
      "displayName": "Jose Eduardo Santarem Segundo",
      "photoUrl": "https://lh3.googleusercontent.com/a-/AOh14GjLWfnjBdxVqYk-cgCgmPPwQImjjL3LNJ8YGfE=s64",
      "userId": "13621550804954747560"
     },
     "user_tz": 180
    },
    "id": "KEnLMBZul1iY",
    "outputId": "488615db-44c8-4500-9597-16fe96190ae4"
   },
   "outputs": [
    {
     "data": {
      "text/plain": [
       "array([0., 0., 0., 0., 0., 0., 0., 0., 0., 0.])"
      ]
     },
     "execution_count": 14,
     "metadata": {},
     "output_type": "execute_result"
    }
   ],
   "source": [
    "dadoszero"
   ]
  },
  {
   "cell_type": "code",
   "execution_count": null,
   "metadata": {
    "id": "LfsY6eXWl1uf"
   },
   "outputs": [],
   "source": [
    "dadoszero2=np.zeros((2,3))"
   ]
  },
  {
   "cell_type": "code",
   "execution_count": null,
   "metadata": {
    "colab": {
     "base_uri": "https://localhost:8080/"
    },
    "executionInfo": {
     "elapsed": 397,
     "status": "ok",
     "timestamp": 1632769746057,
     "user": {
      "displayName": "Jose Eduardo Santarem Segundo",
      "photoUrl": "https://lh3.googleusercontent.com/a-/AOh14GjLWfnjBdxVqYk-cgCgmPPwQImjjL3LNJ8YGfE=s64",
      "userId": "13621550804954747560"
     },
     "user_tz": 180
    },
    "id": "WrLuTYyAl131",
    "outputId": "e538e710-125d-4c60-c3c4-928cac2b7e1e"
   },
   "outputs": [
    {
     "data": {
      "text/plain": [
       "array([[0., 0., 0.],\n",
       "       [0., 0., 0.]])"
      ]
     },
     "execution_count": 16,
     "metadata": {},
     "output_type": "execute_result"
    }
   ],
   "source": [
    "dadoszero2"
   ]
  },
  {
   "cell_type": "code",
   "execution_count": null,
   "metadata": {
    "id": "YbSBg3ezl2CM"
   },
   "outputs": [],
   "source": [
    "dadosum=np.ones(5)"
   ]
  },
  {
   "cell_type": "code",
   "execution_count": null,
   "metadata": {
    "colab": {
     "base_uri": "https://localhost:8080/"
    },
    "executionInfo": {
     "elapsed": 199,
     "status": "ok",
     "timestamp": 1632769779267,
     "user": {
      "displayName": "Jose Eduardo Santarem Segundo",
      "photoUrl": "https://lh3.googleusercontent.com/a-/AOh14GjLWfnjBdxVqYk-cgCgmPPwQImjjL3LNJ8YGfE=s64",
      "userId": "13621550804954747560"
     },
     "user_tz": 180
    },
    "id": "YU4gO8mBl2MY",
    "outputId": "9bb00207-6e9a-47ef-d551-730d63ce7be7"
   },
   "outputs": [
    {
     "data": {
      "text/plain": [
       "array([1., 1., 1., 1., 1.])"
      ]
     },
     "execution_count": 18,
     "metadata": {},
     "output_type": "execute_result"
    }
   ],
   "source": [
    "dadosum"
   ]
  },
  {
   "cell_type": "code",
   "execution_count": null,
   "metadata": {
    "id": "F_H3GgYEl2Ww"
   },
   "outputs": [],
   "source": [
    "dadosseq=np.arange(10)"
   ]
  },
  {
   "cell_type": "code",
   "execution_count": null,
   "metadata": {
    "colab": {
     "base_uri": "https://localhost:8080/"
    },
    "executionInfo": {
     "elapsed": 208,
     "status": "ok",
     "timestamp": 1632769821017,
     "user": {
      "displayName": "Jose Eduardo Santarem Segundo",
      "photoUrl": "https://lh3.googleusercontent.com/a-/AOh14GjLWfnjBdxVqYk-cgCgmPPwQImjjL3LNJ8YGfE=s64",
      "userId": "13621550804954747560"
     },
     "user_tz": 180
    },
    "id": "FlueD7j-l2gm",
    "outputId": "08bec137-d017-4bcb-89b4-d4a46d9b2ddc"
   },
   "outputs": [
    {
     "data": {
      "text/plain": [
       "array([0, 1, 2, 3, 4, 5, 6, 7, 8, 9])"
      ]
     },
     "execution_count": 20,
     "metadata": {},
     "output_type": "execute_result"
    }
   ],
   "source": [
    "dadosseq"
   ]
  },
  {
   "cell_type": "code",
   "execution_count": null,
   "metadata": {
    "id": "VYXa3v5Sl2qc"
   },
   "outputs": [],
   "source": [
    "dadosseq2=np.arange(0,20,2)"
   ]
  },
  {
   "cell_type": "code",
   "execution_count": null,
   "metadata": {
    "colab": {
     "base_uri": "https://localhost:8080/"
    },
    "executionInfo": {
     "elapsed": 235,
     "status": "ok",
     "timestamp": 1632769852966,
     "user": {
      "displayName": "Jose Eduardo Santarem Segundo",
      "photoUrl": "https://lh3.googleusercontent.com/a-/AOh14GjLWfnjBdxVqYk-cgCgmPPwQImjjL3LNJ8YGfE=s64",
      "userId": "13621550804954747560"
     },
     "user_tz": 180
    },
    "id": "EZT0vwFol20e",
    "outputId": "638f1427-3c06-41c3-edde-f2490e15b1a5"
   },
   "outputs": [
    {
     "data": {
      "text/plain": [
       "array([ 0,  2,  4,  6,  8, 10, 12, 14, 16, 18])"
      ]
     },
     "execution_count": 22,
     "metadata": {},
     "output_type": "execute_result"
    }
   ],
   "source": [
    "dadosseq2"
   ]
  },
  {
   "cell_type": "code",
   "execution_count": null,
   "metadata": {
    "colab": {
     "base_uri": "https://localhost:8080/"
    },
    "executionInfo": {
     "elapsed": 192,
     "status": "ok",
     "timestamp": 1632769867897,
     "user": {
      "displayName": "Jose Eduardo Santarem Segundo",
      "photoUrl": "https://lh3.googleusercontent.com/a-/AOh14GjLWfnjBdxVqYk-cgCgmPPwQImjjL3LNJ8YGfE=s64",
      "userId": "13621550804954747560"
     },
     "user_tz": 180
    },
    "id": "PVbxIjl7l2_M",
    "outputId": "373b8bf9-a368-4670-cac5-4e80d4c906f0"
   },
   "outputs": [
    {
     "data": {
      "text/plain": [
       "dtype('int64')"
      ]
     },
     "execution_count": 23,
     "metadata": {},
     "output_type": "execute_result"
    }
   ],
   "source": [
    "dadosseq.dtype"
   ]
  },
  {
   "cell_type": "code",
   "execution_count": null,
   "metadata": {
    "id": "Ohz28F_Zl3I6"
   },
   "outputs": [],
   "source": [
    "dadosseqf=dadosseq.astype(np.float64)"
   ]
  },
  {
   "cell_type": "code",
   "execution_count": null,
   "metadata": {
    "colab": {
     "base_uri": "https://localhost:8080/"
    },
    "executionInfo": {
     "elapsed": 413,
     "status": "ok",
     "timestamp": 1632769914607,
     "user": {
      "displayName": "Jose Eduardo Santarem Segundo",
      "photoUrl": "https://lh3.googleusercontent.com/a-/AOh14GjLWfnjBdxVqYk-cgCgmPPwQImjjL3LNJ8YGfE=s64",
      "userId": "13621550804954747560"
     },
     "user_tz": 180
    },
    "id": "4uh4NxpUl3S4",
    "outputId": "f757fdd7-d9c1-4667-ba77-07d669eb6fdb"
   },
   "outputs": [
    {
     "data": {
      "text/plain": [
       "array([0., 1., 2., 3., 4., 5., 6., 7., 8., 9.])"
      ]
     },
     "execution_count": 25,
     "metadata": {},
     "output_type": "execute_result"
    }
   ],
   "source": [
    "dadosseqf"
   ]
  },
  {
   "cell_type": "code",
   "execution_count": null,
   "metadata": {
    "colab": {
     "base_uri": "https://localhost:8080/"
    },
    "executionInfo": {
     "elapsed": 208,
     "status": "ok",
     "timestamp": 1632769934512,
     "user": {
      "displayName": "Jose Eduardo Santarem Segundo",
      "photoUrl": "https://lh3.googleusercontent.com/a-/AOh14GjLWfnjBdxVqYk-cgCgmPPwQImjjL3LNJ8YGfE=s64",
      "userId": "13621550804954747560"
     },
     "user_tz": 180
    },
    "id": "c3y7gk_Kl3cX",
    "outputId": "3ba6c94e-b98b-4715-c768-818534a9bc5f"
   },
   "outputs": [
    {
     "data": {
      "text/plain": [
       "dtype('float64')"
      ]
     },
     "execution_count": 27,
     "metadata": {},
     "output_type": "execute_result"
    }
   ],
   "source": [
    "dadosseqf.dtype"
   ]
  },
  {
   "cell_type": "markdown",
   "metadata": {
    "id": "DqnoC8mMl30_"
   },
   "source": [
    "#Aritmética com Arrays"
   ]
  },
  {
   "cell_type": "code",
   "execution_count": null,
   "metadata": {
    "id": "5V82lGYfl7gz"
   },
   "outputs": [],
   "source": [
    "dados4=np.array([[1,2,3],[4,5,6]])"
   ]
  },
  {
   "cell_type": "code",
   "execution_count": null,
   "metadata": {
    "colab": {
     "base_uri": "https://localhost:8080/"
    },
    "executionInfo": {
     "elapsed": 5,
     "status": "ok",
     "timestamp": 1632769970057,
     "user": {
      "displayName": "Jose Eduardo Santarem Segundo",
      "photoUrl": "https://lh3.googleusercontent.com/a-/AOh14GjLWfnjBdxVqYk-cgCgmPPwQImjjL3LNJ8YGfE=s64",
      "userId": "13621550804954747560"
     },
     "user_tz": 180
    },
    "id": "HCIbYGzWoM5p",
    "outputId": "cad9005c-463f-4363-ead5-18cf0575dc30"
   },
   "outputs": [
    {
     "data": {
      "text/plain": [
       "array([[1, 2, 3],\n",
       "       [4, 5, 6]])"
      ]
     },
     "execution_count": 29,
     "metadata": {},
     "output_type": "execute_result"
    }
   ],
   "source": [
    "dados4"
   ]
  },
  {
   "cell_type": "code",
   "execution_count": null,
   "metadata": {
    "colab": {
     "base_uri": "https://localhost:8080/"
    },
    "executionInfo": {
     "elapsed": 233,
     "status": "ok",
     "timestamp": 1632769984335,
     "user": {
      "displayName": "Jose Eduardo Santarem Segundo",
      "photoUrl": "https://lh3.googleusercontent.com/a-/AOh14GjLWfnjBdxVqYk-cgCgmPPwQImjjL3LNJ8YGfE=s64",
      "userId": "13621550804954747560"
     },
     "user_tz": 180
    },
    "id": "xwCiWFhVoNGp",
    "outputId": "6b2260bf-b847-45da-e811-66353f569220"
   },
   "outputs": [
    {
     "data": {
      "text/plain": [
       "array([[ 1,  4,  9],\n",
       "       [16, 25, 36]])"
      ]
     },
     "execution_count": 30,
     "metadata": {},
     "output_type": "execute_result"
    }
   ],
   "source": [
    "dados4*dados4"
   ]
  },
  {
   "cell_type": "code",
   "execution_count": null,
   "metadata": {
    "colab": {
     "base_uri": "https://localhost:8080/"
    },
    "executionInfo": {
     "elapsed": 272,
     "status": "ok",
     "timestamp": 1632770008024,
     "user": {
      "displayName": "Jose Eduardo Santarem Segundo",
      "photoUrl": "https://lh3.googleusercontent.com/a-/AOh14GjLWfnjBdxVqYk-cgCgmPPwQImjjL3LNJ8YGfE=s64",
      "userId": "13621550804954747560"
     },
     "user_tz": 180
    },
    "id": "urDD37PZoNRh",
    "outputId": "99a83f89-9ecd-4612-cec0-447ab72ece4a"
   },
   "outputs": [
    {
     "data": {
      "text/plain": [
       "array([[0, 0, 0],\n",
       "       [0, 0, 0]])"
      ]
     },
     "execution_count": 31,
     "metadata": {},
     "output_type": "execute_result"
    }
   ],
   "source": [
    "dados4-dados4"
   ]
  },
  {
   "cell_type": "code",
   "execution_count": null,
   "metadata": {
    "colab": {
     "base_uri": "https://localhost:8080/"
    },
    "executionInfo": {
     "elapsed": 189,
     "status": "ok",
     "timestamp": 1632770021457,
     "user": {
      "displayName": "Jose Eduardo Santarem Segundo",
      "photoUrl": "https://lh3.googleusercontent.com/a-/AOh14GjLWfnjBdxVqYk-cgCgmPPwQImjjL3LNJ8YGfE=s64",
      "userId": "13621550804954747560"
     },
     "user_tz": 180
    },
    "id": "WflbnN_EoNbi",
    "outputId": "5c433ff4-7cc1-455e-f599-48dcc0d39fd6"
   },
   "outputs": [
    {
     "data": {
      "text/plain": [
       "array([[1.        , 0.5       , 0.33333333],\n",
       "       [0.25      , 0.2       , 0.16666667]])"
      ]
     },
     "execution_count": 32,
     "metadata": {},
     "output_type": "execute_result"
    }
   ],
   "source": [
    "1/dados4"
   ]
  },
  {
   "cell_type": "code",
   "execution_count": null,
   "metadata": {
    "id": "2dIkjpEUoNj-"
   },
   "outputs": [],
   "source": [
    "dados5=dados4+dados4"
   ]
  },
  {
   "cell_type": "code",
   "execution_count": null,
   "metadata": {
    "colab": {
     "base_uri": "https://localhost:8080/"
    },
    "executionInfo": {
     "elapsed": 193,
     "status": "ok",
     "timestamp": 1632770044875,
     "user": {
      "displayName": "Jose Eduardo Santarem Segundo",
      "photoUrl": "https://lh3.googleusercontent.com/a-/AOh14GjLWfnjBdxVqYk-cgCgmPPwQImjjL3LNJ8YGfE=s64",
      "userId": "13621550804954747560"
     },
     "user_tz": 180
    },
    "id": "GHLe7q4xoNtH",
    "outputId": "c7795739-70fb-4a1e-d2c2-c95c24d1c4d3"
   },
   "outputs": [
    {
     "data": {
      "text/plain": [
       "array([[ 2,  4,  6],\n",
       "       [ 8, 10, 12]])"
      ]
     },
     "execution_count": 34,
     "metadata": {},
     "output_type": "execute_result"
    }
   ],
   "source": [
    "dados5"
   ]
  },
  {
   "cell_type": "code",
   "execution_count": null,
   "metadata": {
    "colab": {
     "base_uri": "https://localhost:8080/"
    },
    "executionInfo": {
     "elapsed": 208,
     "status": "ok",
     "timestamp": 1632770054853,
     "user": {
      "displayName": "Jose Eduardo Santarem Segundo",
      "photoUrl": "https://lh3.googleusercontent.com/a-/AOh14GjLWfnjBdxVqYk-cgCgmPPwQImjjL3LNJ8YGfE=s64",
      "userId": "13621550804954747560"
     },
     "user_tz": 180
    },
    "id": "3kGp1kP5oN1l",
    "outputId": "bf054d11-5354-4155-c67a-f93aaf6b4105"
   },
   "outputs": [
    {
     "data": {
      "text/plain": [
       "array([[1, 2, 3],\n",
       "       [4, 5, 6]])"
      ]
     },
     "execution_count": 35,
     "metadata": {},
     "output_type": "execute_result"
    }
   ],
   "source": [
    "dados4"
   ]
  },
  {
   "cell_type": "code",
   "execution_count": null,
   "metadata": {
    "colab": {
     "base_uri": "https://localhost:8080/"
    },
    "executionInfo": {
     "elapsed": 191,
     "status": "ok",
     "timestamp": 1632770065923,
     "user": {
      "displayName": "Jose Eduardo Santarem Segundo",
      "photoUrl": "https://lh3.googleusercontent.com/a-/AOh14GjLWfnjBdxVqYk-cgCgmPPwQImjjL3LNJ8YGfE=s64",
      "userId": "13621550804954747560"
     },
     "user_tz": 180
    },
    "id": "coWixZSWoN9_",
    "outputId": "baabef87-f5f0-4d46-9347-dab5e9f4b5cd"
   },
   "outputs": [
    {
     "data": {
      "text/plain": [
       "array([[ True,  True,  True],\n",
       "       [ True,  True,  True]])"
      ]
     },
     "execution_count": 36,
     "metadata": {},
     "output_type": "execute_result"
    }
   ],
   "source": [
    "dados5>dados4"
   ]
  },
  {
   "cell_type": "markdown",
   "metadata": {
    "id": "iMnxfGeAoOd3"
   },
   "source": [
    "#Indexação"
   ]
  },
  {
   "cell_type": "code",
   "execution_count": null,
   "metadata": {
    "colab": {
     "base_uri": "https://localhost:8080/"
    },
    "executionInfo": {
     "elapsed": 201,
     "status": "ok",
     "timestamp": 1632770096109,
     "user": {
      "displayName": "Jose Eduardo Santarem Segundo",
      "photoUrl": "https://lh3.googleusercontent.com/a-/AOh14GjLWfnjBdxVqYk-cgCgmPPwQImjjL3LNJ8YGfE=s64",
      "userId": "13621550804954747560"
     },
     "user_tz": 180
    },
    "id": "YLXulkzEoSNF",
    "outputId": "8fc294a0-8b23-4fe8-e051-e116c4346a0a"
   },
   "outputs": [
    {
     "data": {
      "text/plain": [
       "array([0, 1, 2, 3, 4, 5, 6, 7, 8, 9])"
      ]
     },
     "execution_count": 37,
     "metadata": {},
     "output_type": "execute_result"
    }
   ],
   "source": [
    "dadosseq"
   ]
  },
  {
   "cell_type": "code",
   "execution_count": null,
   "metadata": {
    "colab": {
     "base_uri": "https://localhost:8080/"
    },
    "executionInfo": {
     "elapsed": 332,
     "status": "ok",
     "timestamp": 1632770112646,
     "user": {
      "displayName": "Jose Eduardo Santarem Segundo",
      "photoUrl": "https://lh3.googleusercontent.com/a-/AOh14GjLWfnjBdxVqYk-cgCgmPPwQImjjL3LNJ8YGfE=s64",
      "userId": "13621550804954747560"
     },
     "user_tz": 180
    },
    "id": "k0Nqky2KoS4g",
    "outputId": "9731ce84-8cf7-4c1d-8571-5d6fd4c1122e"
   },
   "outputs": [
    {
     "data": {
      "text/plain": [
       "5"
      ]
     },
     "execution_count": 38,
     "metadata": {},
     "output_type": "execute_result"
    }
   ],
   "source": [
    "dadosseq[5]"
   ]
  },
  {
   "cell_type": "markdown",
   "metadata": {
    "id": "ebBAF2tCoUN6"
   },
   "source": [
    "## Diferente de uma lista python, um recorte (fatia) de um ndarray sofrerá broadcast - é como se fosse uma view de bando de dados. \n",
    "##Com conjuntos imensos de dados isso é uma grande vantagem em relação a performance"
   ]
  },
  {
   "cell_type": "code",
   "execution_count": null,
   "metadata": {
    "colab": {
     "base_uri": "https://localhost:8080/"
    },
    "executionInfo": {
     "elapsed": 438,
     "status": "ok",
     "timestamp": 1632770154218,
     "user": {
      "displayName": "Jose Eduardo Santarem Segundo",
      "photoUrl": "https://lh3.googleusercontent.com/a-/AOh14GjLWfnjBdxVqYk-cgCgmPPwQImjjL3LNJ8YGfE=s64",
      "userId": "13621550804954747560"
     },
     "user_tz": 180
    },
    "id": "q3a3YoXtofTZ",
    "outputId": "99ca06b7-ba95-4b4c-9f00-7eefb46a6255"
   },
   "outputs": [
    {
     "data": {
      "text/plain": [
       "array([3, 4, 5])"
      ]
     },
     "execution_count": 39,
     "metadata": {},
     "output_type": "execute_result"
    }
   ],
   "source": [
    "dadosseq[3:6]"
   ]
  },
  {
   "cell_type": "code",
   "execution_count": null,
   "metadata": {
    "id": "QYN8owupopIr"
   },
   "outputs": [],
   "source": [
    "dadosseq[3:6]=20"
   ]
  },
  {
   "cell_type": "code",
   "execution_count": null,
   "metadata": {
    "colab": {
     "base_uri": "https://localhost:8080/"
    },
    "executionInfo": {
     "elapsed": 193,
     "status": "ok",
     "timestamp": 1632770184519,
     "user": {
      "displayName": "Jose Eduardo Santarem Segundo",
      "photoUrl": "https://lh3.googleusercontent.com/a-/AOh14GjLWfnjBdxVqYk-cgCgmPPwQImjjL3LNJ8YGfE=s64",
      "userId": "13621550804954747560"
     },
     "user_tz": 180
    },
    "id": "-ZADuL5HopUo",
    "outputId": "247de8bf-1ff8-424c-c2e5-7a27a2fbca19"
   },
   "outputs": [
    {
     "data": {
      "text/plain": [
       "array([ 0,  1,  2, 20, 20, 20,  6,  7,  8,  9])"
      ]
     },
     "execution_count": 41,
     "metadata": {},
     "output_type": "execute_result"
    }
   ],
   "source": [
    "dadosseq"
   ]
  },
  {
   "cell_type": "code",
   "execution_count": null,
   "metadata": {
    "id": "RJ6kyia3opd8"
   },
   "outputs": [],
   "source": [
    "fatiadados=dadosseq[2:4]"
   ]
  },
  {
   "cell_type": "code",
   "execution_count": null,
   "metadata": {
    "colab": {
     "base_uri": "https://localhost:8080/"
    },
    "executionInfo": {
     "elapsed": 312,
     "status": "ok",
     "timestamp": 1632770220070,
     "user": {
      "displayName": "Jose Eduardo Santarem Segundo",
      "photoUrl": "https://lh3.googleusercontent.com/a-/AOh14GjLWfnjBdxVqYk-cgCgmPPwQImjjL3LNJ8YGfE=s64",
      "userId": "13621550804954747560"
     },
     "user_tz": 180
    },
    "id": "aIF_ziRBopmj",
    "outputId": "bbfa7cb4-4f30-4145-a791-b1873f7a287a"
   },
   "outputs": [
    {
     "data": {
      "text/plain": [
       "array([ 2, 20])"
      ]
     },
     "execution_count": 44,
     "metadata": {},
     "output_type": "execute_result"
    }
   ],
   "source": [
    "fatiadados"
   ]
  },
  {
   "cell_type": "code",
   "execution_count": null,
   "metadata": {
    "id": "NIEvU3mTopup"
   },
   "outputs": [],
   "source": [
    "fatiadados[1]=2000"
   ]
  },
  {
   "cell_type": "code",
   "execution_count": null,
   "metadata": {
    "colab": {
     "base_uri": "https://localhost:8080/"
    },
    "executionInfo": {
     "elapsed": 223,
     "status": "ok",
     "timestamp": 1632770251570,
     "user": {
      "displayName": "Jose Eduardo Santarem Segundo",
      "photoUrl": "https://lh3.googleusercontent.com/a-/AOh14GjLWfnjBdxVqYk-cgCgmPPwQImjjL3LNJ8YGfE=s64",
      "userId": "13621550804954747560"
     },
     "user_tz": 180
    },
    "id": "RfCQI2hoop3Q",
    "outputId": "2e974a80-ae2c-4df7-eb10-415a745c551b"
   },
   "outputs": [
    {
     "data": {
      "text/plain": [
       "array([   2, 2000])"
      ]
     },
     "execution_count": 46,
     "metadata": {},
     "output_type": "execute_result"
    }
   ],
   "source": [
    "fatiadados"
   ]
  },
  {
   "cell_type": "code",
   "execution_count": null,
   "metadata": {
    "colab": {
     "base_uri": "https://localhost:8080/"
    },
    "executionInfo": {
     "elapsed": 200,
     "status": "ok",
     "timestamp": 1632770263298,
     "user": {
      "displayName": "Jose Eduardo Santarem Segundo",
      "photoUrl": "https://lh3.googleusercontent.com/a-/AOh14GjLWfnjBdxVqYk-cgCgmPPwQImjjL3LNJ8YGfE=s64",
      "userId": "13621550804954747560"
     },
     "user_tz": 180
    },
    "id": "1eaup7ipop-0",
    "outputId": "a284c56e-dc0e-4de9-f93b-b04626205d22"
   },
   "outputs": [
    {
     "data": {
      "text/plain": [
       "array([   0,    1,    2, 2000,   20,   20,    6,    7,    8,    9])"
      ]
     },
     "execution_count": 47,
     "metadata": {},
     "output_type": "execute_result"
    }
   ],
   "source": [
    "dadosseq"
   ]
  },
  {
   "cell_type": "code",
   "execution_count": null,
   "metadata": {
    "id": "UOFXy0cWoqHb"
   },
   "outputs": [],
   "source": [
    "fatiadados[:]=333"
   ]
  },
  {
   "cell_type": "code",
   "execution_count": null,
   "metadata": {
    "colab": {
     "base_uri": "https://localhost:8080/"
    },
    "executionInfo": {
     "elapsed": 199,
     "status": "ok",
     "timestamp": 1632770295693,
     "user": {
      "displayName": "Jose Eduardo Santarem Segundo",
      "photoUrl": "https://lh3.googleusercontent.com/a-/AOh14GjLWfnjBdxVqYk-cgCgmPPwQImjjL3LNJ8YGfE=s64",
      "userId": "13621550804954747560"
     },
     "user_tz": 180
    },
    "id": "xDZ8Y3MRoqQk",
    "outputId": "721b1d28-16af-4fb6-bd92-269a41f12c18"
   },
   "outputs": [
    {
     "data": {
      "text/plain": [
       "array([  0,   1, 333, 333,  20,  20,   6,   7,   8,   9])"
      ]
     },
     "execution_count": 49,
     "metadata": {},
     "output_type": "execute_result"
    }
   ],
   "source": [
    "dadosseq"
   ]
  },
  {
   "cell_type": "markdown",
   "metadata": {
    "id": "S-jlEnYooqig"
   },
   "source": [
    "#Copiar dados"
   ]
  },
  {
   "cell_type": "code",
   "execution_count": null,
   "metadata": {
    "id": "3nItZMloCKlU"
   },
   "outputs": [],
   "source": [
    "fatia2=dadosseq[2:4].copy()"
   ]
  },
  {
   "cell_type": "code",
   "execution_count": null,
   "metadata": {
    "colab": {
     "base_uri": "https://localhost:8080/"
    },
    "executionInfo": {
     "elapsed": 206,
     "status": "ok",
     "timestamp": 1632770362184,
     "user": {
      "displayName": "Jose Eduardo Santarem Segundo",
      "photoUrl": "https://lh3.googleusercontent.com/a-/AOh14GjLWfnjBdxVqYk-cgCgmPPwQImjjL3LNJ8YGfE=s64",
      "userId": "13621550804954747560"
     },
     "user_tz": 180
    },
    "id": "UqU_PxlDCYUa",
    "outputId": "b0ab89e1-6a6a-40d5-f380-ecf51efa70b5"
   },
   "outputs": [
    {
     "data": {
      "text/plain": [
       "array([333, 333])"
      ]
     },
     "execution_count": 51,
     "metadata": {},
     "output_type": "execute_result"
    }
   ],
   "source": [
    "fatia2"
   ]
  },
  {
   "cell_type": "code",
   "execution_count": null,
   "metadata": {
    "id": "VA356-xyCYel"
   },
   "outputs": [],
   "source": [
    "fatia2[:]=111"
   ]
  },
  {
   "cell_type": "code",
   "execution_count": null,
   "metadata": {
    "colab": {
     "base_uri": "https://localhost:8080/"
    },
    "executionInfo": {
     "elapsed": 216,
     "status": "ok",
     "timestamp": 1632770378543,
     "user": {
      "displayName": "Jose Eduardo Santarem Segundo",
      "photoUrl": "https://lh3.googleusercontent.com/a-/AOh14GjLWfnjBdxVqYk-cgCgmPPwQImjjL3LNJ8YGfE=s64",
      "userId": "13621550804954747560"
     },
     "user_tz": 180
    },
    "id": "8-5I7F-VCYob",
    "outputId": "b2dbaae7-d28e-4d02-f3c7-e7e1ba415d6c"
   },
   "outputs": [
    {
     "data": {
      "text/plain": [
       "array([111, 111])"
      ]
     },
     "execution_count": 53,
     "metadata": {},
     "output_type": "execute_result"
    }
   ],
   "source": [
    "fatia2"
   ]
  },
  {
   "cell_type": "code",
   "execution_count": null,
   "metadata": {
    "colab": {
     "base_uri": "https://localhost:8080/"
    },
    "executionInfo": {
     "elapsed": 210,
     "status": "ok",
     "timestamp": 1632770385216,
     "user": {
      "displayName": "Jose Eduardo Santarem Segundo",
      "photoUrl": "https://lh3.googleusercontent.com/a-/AOh14GjLWfnjBdxVqYk-cgCgmPPwQImjjL3LNJ8YGfE=s64",
      "userId": "13621550804954747560"
     },
     "user_tz": 180
    },
    "id": "NJ25aY4oCYxR",
    "outputId": "82353409-8bc4-414d-f371-6f429f2b9ac9"
   },
   "outputs": [
    {
     "data": {
      "text/plain": [
       "array([  0,   1, 333, 333,  20,  20,   6,   7,   8,   9])"
      ]
     },
     "execution_count": 54,
     "metadata": {},
     "output_type": "execute_result"
    }
   ],
   "source": [
    "dadosseq"
   ]
  },
  {
   "cell_type": "markdown",
   "metadata": {
    "id": "sDoOIJPeCZBc"
   },
   "source": [
    "#Array com mais de uma dimensão"
   ]
  },
  {
   "cell_type": "code",
   "execution_count": null,
   "metadata": {
    "id": "AcCSi4mCCg_t"
   },
   "outputs": [],
   "source": [
    "dados6=np.array([[1,2,3],[4,5,6],[7,8,9]])"
   ]
  },
  {
   "cell_type": "code",
   "execution_count": null,
   "metadata": {
    "colab": {
     "base_uri": "https://localhost:8080/"
    },
    "executionInfo": {
     "elapsed": 5,
     "status": "ok",
     "timestamp": 1632770435001,
     "user": {
      "displayName": "Jose Eduardo Santarem Segundo",
      "photoUrl": "https://lh3.googleusercontent.com/a-/AOh14GjLWfnjBdxVqYk-cgCgmPPwQImjjL3LNJ8YGfE=s64",
      "userId": "13621550804954747560"
     },
     "user_tz": 180
    },
    "id": "DUHrhpRICr6Q",
    "outputId": "e814db1d-eb25-4239-da21-5fcd92343df7"
   },
   "outputs": [
    {
     "data": {
      "text/plain": [
       "array([[1, 2, 3],\n",
       "       [4, 5, 6],\n",
       "       [7, 8, 9]])"
      ]
     },
     "execution_count": 56,
     "metadata": {},
     "output_type": "execute_result"
    }
   ],
   "source": [
    "dados6"
   ]
  },
  {
   "cell_type": "code",
   "execution_count": null,
   "metadata": {
    "colab": {
     "base_uri": "https://localhost:8080/"
    },
    "executionInfo": {
     "elapsed": 198,
     "status": "ok",
     "timestamp": 1632770450199,
     "user": {
      "displayName": "Jose Eduardo Santarem Segundo",
      "photoUrl": "https://lh3.googleusercontent.com/a-/AOh14GjLWfnjBdxVqYk-cgCgmPPwQImjjL3LNJ8YGfE=s64",
      "userId": "13621550804954747560"
     },
     "user_tz": 180
    },
    "id": "YdItU-52CsBp",
    "outputId": "63743175-21af-4ca7-d0d3-900e17fbd75e"
   },
   "outputs": [
    {
     "data": {
      "text/plain": [
       "6"
      ]
     },
     "execution_count": 57,
     "metadata": {},
     "output_type": "execute_result"
    }
   ],
   "source": [
    "dados6[1,2]"
   ]
  },
  {
   "cell_type": "markdown",
   "metadata": {
    "id": "BsvSgY8WCsSh"
   },
   "source": [
    "#Máscaras"
   ]
  },
  {
   "cell_type": "code",
   "execution_count": null,
   "metadata": {
    "colab": {
     "base_uri": "https://localhost:8080/"
    },
    "executionInfo": {
     "elapsed": 5,
     "status": "ok",
     "timestamp": 1632770488028,
     "user": {
      "displayName": "Jose Eduardo Santarem Segundo",
      "photoUrl": "https://lh3.googleusercontent.com/a-/AOh14GjLWfnjBdxVqYk-cgCgmPPwQImjjL3LNJ8YGfE=s64",
      "userId": "13621550804954747560"
     },
     "user_tz": 180
    },
    "id": "H5yiRY2mCuwu",
    "outputId": "f0c36030-91cb-4319-db96-c93f3dc4f905"
   },
   "outputs": [
    {
     "data": {
      "text/plain": [
       "array([  0,   1, 333, 333,  20,  20,   6,   7,   8,   9])"
      ]
     },
     "execution_count": 58,
     "metadata": {},
     "output_type": "execute_result"
    }
   ],
   "source": [
    "dadosseq"
   ]
  },
  {
   "cell_type": "code",
   "execution_count": null,
   "metadata": {
    "id": "2yxWAQz3C-MS"
   },
   "outputs": [],
   "source": [
    "mascara=(dadosseq<100)"
   ]
  },
  {
   "cell_type": "code",
   "execution_count": null,
   "metadata": {
    "colab": {
     "base_uri": "https://localhost:8080/"
    },
    "executionInfo": {
     "elapsed": 425,
     "status": "ok",
     "timestamp": 1632770512615,
     "user": {
      "displayName": "Jose Eduardo Santarem Segundo",
      "photoUrl": "https://lh3.googleusercontent.com/a-/AOh14GjLWfnjBdxVqYk-cgCgmPPwQImjjL3LNJ8YGfE=s64",
      "userId": "13621550804954747560"
     },
     "user_tz": 180
    },
    "id": "390kvylXC-T_",
    "outputId": "25e5bf83-0b2e-4838-97b6-ee16c4fcbd03"
   },
   "outputs": [
    {
     "data": {
      "text/plain": [
       "array([ True,  True, False, False,  True,  True,  True,  True,  True,\n",
       "        True])"
      ]
     },
     "execution_count": 60,
     "metadata": {},
     "output_type": "execute_result"
    }
   ],
   "source": [
    "mascara"
   ]
  },
  {
   "cell_type": "code",
   "execution_count": null,
   "metadata": {
    "id": "jIhhQxAUC-aX"
   },
   "outputs": [],
   "source": [
    "dadosseq[dadosseq<20]=8888"
   ]
  },
  {
   "cell_type": "code",
   "execution_count": null,
   "metadata": {
    "colab": {
     "base_uri": "https://localhost:8080/"
    },
    "executionInfo": {
     "elapsed": 234,
     "status": "ok",
     "timestamp": 1632770569977,
     "user": {
      "displayName": "Jose Eduardo Santarem Segundo",
      "photoUrl": "https://lh3.googleusercontent.com/a-/AOh14GjLWfnjBdxVqYk-cgCgmPPwQImjjL3LNJ8YGfE=s64",
      "userId": "13621550804954747560"
     },
     "user_tz": 180
    },
    "id": "bGy3pFhxC-gk",
    "outputId": "2031ef1f-4e3e-45b0-d6e9-c8e86dcf666e"
   },
   "outputs": [
    {
     "data": {
      "text/plain": [
       "array([8888, 8888,  333,  333,   20,   20, 8888, 8888, 8888, 8888])"
      ]
     },
     "execution_count": 62,
     "metadata": {},
     "output_type": "execute_result"
    }
   ],
   "source": [
    "dadosseq"
   ]
  },
  {
   "cell_type": "markdown",
   "metadata": {
    "id": "aTqZBks_DBH3"
   },
   "source": [
    "#Transposição"
   ]
  },
  {
   "cell_type": "code",
   "execution_count": null,
   "metadata": {
    "id": "S90bX_yCDFkX"
   },
   "outputs": [],
   "source": [
    "dados7=np.arange(15).reshape((3,5))"
   ]
  },
  {
   "cell_type": "code",
   "execution_count": null,
   "metadata": {
    "colab": {
     "base_uri": "https://localhost:8080/"
    },
    "executionInfo": {
     "elapsed": 199,
     "status": "ok",
     "timestamp": 1632770620639,
     "user": {
      "displayName": "Jose Eduardo Santarem Segundo",
      "photoUrl": "https://lh3.googleusercontent.com/a-/AOh14GjLWfnjBdxVqYk-cgCgmPPwQImjjL3LNJ8YGfE=s64",
      "userId": "13621550804954747560"
     },
     "user_tz": 180
    },
    "id": "kXiKyU7FDhuo",
    "outputId": "0a3cc5a4-95a6-440a-dfae-beba91de64ca"
   },
   "outputs": [
    {
     "data": {
      "text/plain": [
       "array([[ 0,  1,  2,  3,  4],\n",
       "       [ 5,  6,  7,  8,  9],\n",
       "       [10, 11, 12, 13, 14]])"
      ]
     },
     "execution_count": 64,
     "metadata": {},
     "output_type": "execute_result"
    }
   ],
   "source": [
    "dados7"
   ]
  },
  {
   "cell_type": "code",
   "execution_count": null,
   "metadata": {
    "colab": {
     "base_uri": "https://localhost:8080/"
    },
    "executionInfo": {
     "elapsed": 202,
     "status": "ok",
     "timestamp": 1632770633573,
     "user": {
      "displayName": "Jose Eduardo Santarem Segundo",
      "photoUrl": "https://lh3.googleusercontent.com/a-/AOh14GjLWfnjBdxVqYk-cgCgmPPwQImjjL3LNJ8YGfE=s64",
      "userId": "13621550804954747560"
     },
     "user_tz": 180
    },
    "id": "fliSJmroDh3w",
    "outputId": "4f756df9-4fc2-4db9-e43d-cd48d51ad7e9"
   },
   "outputs": [
    {
     "data": {
      "text/plain": [
       "array([[ 0,  5, 10],\n",
       "       [ 1,  6, 11],\n",
       "       [ 2,  7, 12],\n",
       "       [ 3,  8, 13],\n",
       "       [ 4,  9, 14]])"
      ]
     },
     "execution_count": 65,
     "metadata": {},
     "output_type": "execute_result"
    }
   ],
   "source": [
    "dados7.T"
   ]
  },
  {
   "cell_type": "markdown",
   "metadata": {
    "id": "CrCzsic4Dk5r"
   },
   "source": [
    "#Multiplicação de Matrizes com Dots"
   ]
  },
  {
   "cell_type": "code",
   "execution_count": null,
   "metadata": {
    "colab": {
     "base_uri": "https://localhost:8080/"
    },
    "executionInfo": {
     "elapsed": 215,
     "status": "ok",
     "timestamp": 1632770667671,
     "user": {
      "displayName": "Jose Eduardo Santarem Segundo",
      "photoUrl": "https://lh3.googleusercontent.com/a-/AOh14GjLWfnjBdxVqYk-cgCgmPPwQImjjL3LNJ8YGfE=s64",
      "userId": "13621550804954747560"
     },
     "user_tz": 180
    },
    "id": "8Q02OJuFDn8i",
    "outputId": "f1797e46-c50b-4f43-e7e8-f9eb03704712"
   },
   "outputs": [
    {
     "data": {
      "text/plain": [
       "array([[125, 140, 155, 170, 185],\n",
       "       [140, 158, 176, 194, 212],\n",
       "       [155, 176, 197, 218, 239],\n",
       "       [170, 194, 218, 242, 266],\n",
       "       [185, 212, 239, 266, 293]])"
      ]
     },
     "execution_count": 66,
     "metadata": {},
     "output_type": "execute_result"
    }
   ],
   "source": [
    "np.dot(dados7.T,dados7)"
   ]
  },
  {
   "cell_type": "markdown",
   "metadata": {
    "id": "tE7e1MpyEAGI"
   },
   "source": [
    "# Vejam que há muitas outras funções que podem ser exploradas como: sin, cos, power, mod, sqrt entre outros"
   ]
  }
 ],
 "metadata": {
  "colab": {
   "authorship_tag": "ABX9TyPzfQdvUZ9a2AzSJ0PfdlO9",
   "collapsed_sections": [],
   "name": "COM350_Univesp_Videoaula5_Numpy.ipynb",
   "provenance": []
  },
  "hide_input": false,
  "kernelspec": {
   "display_name": "Python 3",
   "language": "python",
   "name": "python3"
  },
  "language_info": {
   "codemirror_mode": {
    "name": "ipython",
    "version": 3
   },
   "file_extension": ".py",
   "mimetype": "text/x-python",
   "name": "python",
   "nbconvert_exporter": "python",
   "pygments_lexer": "ipython3",
   "version": "3.8.8"
  },
  "toc": {
   "base_numbering": 1,
   "nav_menu": {},
   "number_sections": true,
   "sideBar": true,
   "skip_h1_title": true,
   "title_cell": "Table of Contents",
   "title_sidebar": "Contents",
   "toc_cell": false,
   "toc_position": {},
   "toc_section_display": true,
   "toc_window_display": true
  },
  "varInspector": {
   "cols": {
    "lenName": 16,
    "lenType": 16,
    "lenVar": 40
   },
   "kernels_config": {
    "python": {
     "delete_cmd_postfix": "",
     "delete_cmd_prefix": "del ",
     "library": "var_list.py",
     "varRefreshCmd": "print(var_dic_list())"
    },
    "r": {
     "delete_cmd_postfix": ") ",
     "delete_cmd_prefix": "rm(",
     "library": "var_list.r",
     "varRefreshCmd": "cat(var_dic_list()) "
    }
   },
   "types_to_exclude": [
    "module",
    "function",
    "builtin_function_or_method",
    "instance",
    "_Feature"
   ],
   "window_display": false
  }
 },
 "nbformat": 4,
 "nbformat_minor": 1
}

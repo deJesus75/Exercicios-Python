{
 "cells": [
  {
   "cell_type": "markdown",
   "metadata": {
    "slideshow": {
     "slide_type": "skip"
    }
   },
   "source": [
    "# Micro 09: Conjuntos e suas utilizações &ndash; oficina\n",
    "\n",
    "Ao planejar um casamento, um casal monta sua lista de presentes e faz uma pesquisa para encontrar algumas lojas de departamentos que trabalhem com este serviço. O casal encontra 4 lojas favoráveis, mas cada uma oferece apenas alguns dos presentes que gostariam de ganhar. Como não dá para colocar a lista em todas as lojas ao mesmo tempo, algumas perguntas podem ajudar a decidir o que fazer, como: \n",
    "\n",
    "1. Quais produtos são oferecidos em ao menos uma loja? \n",
    "1. Quais produtos são oferecidos em todas as lojas? \n",
    "1. Quais produtos não são encontrados em nenhuma loja? \n",
    "1. Quais produtos são exclusivos de cada loja? \n",
    "1. Se for possível escolher duas lojas pra cobrir um número maior de presentes, qual é o maior número de presentes que é possível cobrir dessa forma? \n",
    "\n",
    "Faça um programa que calcule e imprima as respostas para estas perguntas. As 3 primeiras perguntas podem ser respondidas imprimindo conjuntos ou listas com os produtos correspondentes. A quarta pergunta pode ser respondida imprimindo uma lista de 4 coleções de produtos, ou imprimindo uma coleção por linha. A quinta pergunta pode ser respondida apenas com o número de presentes da melhor combinação de lojas, não precisa dizer qual é a combinação. \n",
    "\n",
    "Abaixo, você encontra duas células: a primeira contém valores exemplo para a lista de presentes e para os catálogos das lojas; a segunta a saída esperada do programa, dadas estas definições. Escreva seu programa em uma célula intermediária."
   ]
  },
  {
   "cell_type": "code",
   "execution_count": 1,
   "metadata": {
    "ExecuteTime": {
     "end_time": "2021-09-13T13:26:46.116291Z",
     "start_time": "2021-09-13T13:26:46.094153Z"
    }
   },
   "outputs": [],
   "source": [
    "presentes = {\n",
    "    'cadeira', 'cafeteira', 'caneca', 'escumadeira',\n",
    "    'espanador', 'espátula', 'estante', 'faqueiro',\n",
    "    'frigideira', 'funil', 'halter', 'liquidificador',\n",
    "    'notebook', 'panela', 'peneira', 'playstation',\n",
    "    'rádio', 'smartphone', 'sofá', 'tablet', 'teclado',\n",
    "    'televisão', 'vassoura', 'webcam', 'xbox',\n",
    "}\n",
    "\n",
    "loja1 = {\n",
    "    'cadeira', 'cafeteira', 'caneca', 'escumadeira', 'estante',\n",
    "    'frigideira', 'funil', 'liquidificador', 'notebook', 'panela',\n",
    "    'playstation', 'smartphone', 'teclado', 'televisão'}\n",
    "loja2 = {\n",
    "    'cafeteira', 'escumadeira', 'espanador', 'frigideira', 'funil',\n",
    "    'halter', 'peneira', 'playstation', 'sofá', 'tablet', 'televisão',\n",
    "    'vassoura', 'webcam', 'xbox'}\n",
    "loja3 = {\n",
    "    'caneca', 'escumadeira', 'espanador', 'espátula', 'estante',\n",
    "    'frigideira', 'halter', 'playstation', 'rádio', 'smartphone',\n",
    "    'sofá', 'teclado', 'televisão', 'vassoura', 'xbox'}\n",
    "loja4 = {\n",
    "    'caneca', 'escumadeira', 'espanador', 'espátula', 'estante',\n",
    "    'frigideira', 'halter', 'playstation', 'rádio', 'smartphone',\n",
    "    'sofá', 'teclado', 'televisão', 'vassoura', 'xbox'}"
   ]
  },
  {
   "cell_type": "markdown",
   "metadata": {},
   "source": [
    "## Quais produtos são oferecidos em ao menos uma loja?"
   ]
  },
  {
   "cell_type": "code",
   "execution_count": 7,
   "metadata": {
    "ExecuteTime": {
     "end_time": "2021-09-13T13:34:14.338790Z",
     "start_time": "2021-09-13T13:34:14.323170Z"
    }
   },
   "outputs": [],
   "source": [
    "produtos_oferecidos= set()"
   ]
  },
  {
   "cell_type": "code",
   "execution_count": 12,
   "metadata": {
    "ExecuteTime": {
     "end_time": "2021-09-13T13:38:22.292970Z",
     "start_time": "2021-09-13T13:38:22.277355Z"
    }
   },
   "outputs": [
    {
     "name": "stdout",
     "output_type": "stream",
     "text": [
      "Produtos oferecidos em alguma loja : {'funil', 'panela', 'playstation', 'espanador', 'liquidificador', 'escumadeira', 'vassoura', 'espátula', 'estante', 'notebook', 'caneca', 'peneira', 'frigideira', 'sofá', 'halter', 'televisão', 'xbox', 'cadeira', 'rádio', 'webcam', 'cafeteira', 'tablet', 'smartphone', 'teclado'}\n"
     ]
    }
   ],
   "source": [
    "produtos_oferecidos.update(presentes.intersection(loja1))\n",
    "produtos_oferecidos.update(presentes.intersection(loja2))\n",
    "produtos_oferecidos.update(presentes.intersection(loja3))\n",
    "produtos_oferecidos.update(presentes.intersection(loja4))\n",
    "print('Produtos oferecidos em alguma loja :',produtos_oferecidos)"
   ]
  },
  {
   "cell_type": "markdown",
   "metadata": {},
   "source": [
    "## Quais produtos são oferecidos em todas as lojas? "
   ]
  },
  {
   "cell_type": "code",
   "execution_count": 13,
   "metadata": {
    "ExecuteTime": {
     "end_time": "2021-09-13T13:40:22.284012Z",
     "start_time": "2021-09-13T13:40:22.268392Z"
    }
   },
   "outputs": [],
   "source": [
    "produtos_emtodas= set()"
   ]
  },
  {
   "cell_type": "code",
   "execution_count": 14,
   "metadata": {
    "ExecuteTime": {
     "end_time": "2021-09-13T13:42:27.681866Z",
     "start_time": "2021-09-13T13:42:27.666243Z"
    }
   },
   "outputs": [
    {
     "name": "stdout",
     "output_type": "stream",
     "text": [
      "Produtos oferecidos em todas as lojas:  {'televisão', 'playstation', 'escumadeira', 'frigideira'}\n"
     ]
    }
   ],
   "source": [
    "produtos_emtodas.update(presentes.intersection(loja1,loja2,loja3,loja4))\n",
    "print('Produtos oferecidos em todas as lojas: ',produtos_emtodas)"
   ]
  },
  {
   "cell_type": "markdown",
   "metadata": {
    "ExecuteTime": {
     "end_time": "2021-09-13T13:44:26.168804Z",
     "start_time": "2021-09-13T13:44:26.153182Z"
    }
   },
   "source": [
    "## Quais produtos não são encontrados em nenhuma loja?"
   ]
  },
  {
   "cell_type": "code",
   "execution_count": 16,
   "metadata": {
    "ExecuteTime": {
     "end_time": "2021-09-13T13:46:21.153765Z",
     "start_time": "2021-09-13T13:46:21.138145Z"
    }
   },
   "outputs": [
    {
     "data": {
      "text/plain": [
       "{'faqueiro'}"
      ]
     },
     "execution_count": 16,
     "metadata": {},
     "output_type": "execute_result"
    }
   ],
   "source": [
    "presentes.difference(loja1,loja2,loja3,loja4)"
   ]
  },
  {
   "cell_type": "markdown",
   "metadata": {},
   "source": [
    "## Quais produtos são exclusivos de cada loja?"
   ]
  },
  {
   "cell_type": "code",
   "execution_count": 19,
   "metadata": {
    "ExecuteTime": {
     "end_time": "2021-09-13T13:53:10.676309Z",
     "start_time": "2021-09-13T13:53:10.638518Z"
    }
   },
   "outputs": [
    {
     "name": "stdout",
     "output_type": "stream",
     "text": [
      "Produtos exclusivos: [{'liquidificador', 'cadeira', 'panela', 'notebook'}, {'peneira', 'webcam', 'tablet'}, set(), set()]\n"
     ]
    }
   ],
   "source": [
    "produtos_exclusivos=[]\n",
    "produtos_exclusivos.append(loja1.difference(loja2,loja3,loja4))\n",
    "produtos_exclusivos.append(loja2.difference(loja1,loja3,loja4))\n",
    "produtos_exclusivos.append(loja3.difference(loja1,loja2,loja4))\n",
    "produtos_exclusivos.append(loja4.difference(loja1,loja2,loja3))\n",
    "print('Produtos exclusivos:',produtos_exclusivos)"
   ]
  },
  {
   "cell_type": "markdown",
   "metadata": {},
   "source": [
    "## Se for possível escolher duas lojas pra cobrir um número maior de presentes, qual é o maior número de presentes que é possível cobrir dessa forma? "
   ]
  },
  {
   "cell_type": "code",
   "execution_count": 20,
   "metadata": {
    "ExecuteTime": {
     "end_time": "2021-09-13T13:59:52.564248Z",
     "start_time": "2021-09-13T13:59:52.548596Z"
    }
   },
   "outputs": [],
   "source": [
    "lista_de_lojas = []"
   ]
  },
  {
   "cell_type": "code",
   "execution_count": 24,
   "metadata": {
    "ExecuteTime": {
     "end_time": "2021-09-13T14:13:11.172278Z",
     "start_time": "2021-09-13T14:13:11.141034Z"
    }
   },
   "outputs": [
    {
     "name": "stdout",
     "output_type": "stream",
     "text": [
      "Melhor dupla tem  22  items\n"
     ]
    }
   ],
   "source": [
    "lista_de_lojas.append(loja1)\n",
    "lista_de_lojas.append(loja2)\n",
    "lista_de_lojas.append(loja3)\n",
    "lista_de_lojas.append(loja4)\n",
    "itens =0\n",
    "for loja in lista_de_lojas:\n",
    "    for lojax in lista_de_lojas:\n",
    "        itens_loja = len(presentes.intersection(loja.union(lojax)))\n",
    "        if itens_loja>itens:\n",
    "            itens=itens_loja\n",
    "print('Melhor dupla tem ',itens,\" items\")\n"
   ]
  },
  {
   "cell_type": "markdown",
   "metadata": {},
   "source": [
    "## Resposta para correção "
   ]
  },
  {
   "cell_type": "raw",
   "metadata": {
    "slideshow": {
     "slide_type": "fragment"
    }
   },
   "source": [
    "1. Produtos oferecidos em alguma loja: {'teclado', 'rádio', 'xbox', 'espanador', 'playstation', 'peneira', 'tablet', 'cafeteira', 'caneca', 'estante', 'escumadeira', 'smartphone', 'vassoura', 'espátula', 'liquidificador', 'cadeira', 'webcam', 'notebook', 'sofá', 'panela', 'funil', 'televisão', 'frigideira', 'halter'}\n",
    "2. Produtos em todas as lojas: {'escumadeira', 'frigideira', 'playstation', 'televisão'}\n",
    "3. Produtos não encontrados: {'faqueiro'}\n",
    "4. Produtos exclusivos: [{'cadeira', 'liquidificador', 'notebook', 'panela'},\n",
    "                         {'peneira', 'tablet', 'webcam'},\n",
    "                         set(),\n",
    "                         set()]\n",
    "5. Melhore dupla tem 22 itens"
   ]
  }
 ],
 "metadata": {
  "celltoolbar": "Slideshow",
  "hide_input": false,
  "kernelspec": {
   "display_name": "Python 3",
   "language": "python",
   "name": "python3"
  },
  "language_info": {
   "codemirror_mode": {
    "name": "ipython",
    "version": 3
   },
   "file_extension": ".py",
   "mimetype": "text/x-python",
   "name": "python",
   "nbconvert_exporter": "python",
   "pygments_lexer": "ipython3",
   "version": "3.8.8"
  },
  "toc": {
   "base_numbering": 1,
   "nav_menu": {},
   "number_sections": true,
   "sideBar": true,
   "skip_h1_title": true,
   "title_cell": "Índice",
   "title_sidebar": "Contents",
   "toc_cell": false,
   "toc_position": {
    "height": "calc(100% - 180px)",
    "left": "10px",
    "top": "150px",
    "width": "337px"
   },
   "toc_section_display": true,
   "toc_window_display": true
  },
  "varInspector": {
   "cols": {
    "lenName": 16,
    "lenType": 16,
    "lenVar": 40
   },
   "kernels_config": {
    "python": {
     "delete_cmd_postfix": "",
     "delete_cmd_prefix": "del ",
     "library": "var_list.py",
     "varRefreshCmd": "print(var_dic_list())"
    },
    "r": {
     "delete_cmd_postfix": ") ",
     "delete_cmd_prefix": "rm(",
     "library": "var_list.r",
     "varRefreshCmd": "cat(var_dic_list()) "
    }
   },
   "types_to_exclude": [
    "module",
    "function",
    "builtin_function_or_method",
    "instance",
    "_Feature"
   ],
   "window_display": false
  }
 },
 "nbformat": 4,
 "nbformat_minor": 4
}

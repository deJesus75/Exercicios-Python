{
 "cells": [
  {
   "cell_type": "markdown",
   "id": "692eaa79",
   "metadata": {},
   "source": [
    "# Conjuntos em Python"
   ]
  },
  {
   "cell_type": "markdown",
   "id": "21d424c8",
   "metadata": {},
   "source": [
    "Os conjuntos em Python são definidos por {}.\n",
    "Os elementos repetidos são ignorados."
   ]
  },
  {
   "cell_type": "code",
   "execution_count": 1,
   "id": "abc3e0c6",
   "metadata": {
    "ExecuteTime": {
     "end_time": "2021-09-13T12:25:25.532440Z",
     "start_time": "2021-09-13T12:25:25.516820Z"
    }
   },
   "outputs": [
    {
     "name": "stdout",
     "output_type": "stream",
     "text": [
      "{1, 2, 3, 4, 5}\n"
     ]
    }
   ],
   "source": [
    "conjunto1={1,2,3,1,2,3,4,5}\n",
    "print(conjunto1)"
   ]
  },
  {
   "cell_type": "markdown",
   "id": "c53e3b80",
   "metadata": {},
   "source": [
    "## Convertendo lista ou tupla em conjunto"
   ]
  },
  {
   "cell_type": "code",
   "execution_count": 4,
   "id": "be6bb0c7",
   "metadata": {
    "ExecuteTime": {
     "end_time": "2021-09-13T12:32:45.922410Z",
     "start_time": "2021-09-13T12:32:45.907116Z"
    }
   },
   "outputs": [
    {
     "name": "stdout",
     "output_type": "stream",
     "text": [
      "{1, 2, 3, 4, 5}\n"
     ]
    }
   ],
   "source": [
    "lista1 = [1,2,3,1,2,3,4,5]\n",
    "conj_l1 =set(lista1)\n",
    "print(conj_l1)"
   ]
  },
  {
   "cell_type": "code",
   "execution_count": 5,
   "id": "f6b8f79e",
   "metadata": {
    "ExecuteTime": {
     "end_time": "2021-09-13T12:35:26.687511Z",
     "start_time": "2021-09-13T12:35:26.656593Z"
    }
   },
   "outputs": [
    {
     "name": "stdout",
     "output_type": "stream",
     "text": [
      "{'banana', 'laranja', 'maçã'}\n"
     ]
    }
   ],
   "source": [
    "tupla1 =('banana','maçã','laranja','maçã')\n",
    "conj_t1 =set(tupla1)\n",
    "print(conj_t1)"
   ]
  },
  {
   "cell_type": "markdown",
   "id": "66c3adcc",
   "metadata": {},
   "source": [
    "## Operações com Conjuntos"
   ]
  },
  {
   "cell_type": "markdown",
   "id": "27b207ed",
   "metadata": {},
   "source": [
    "Para exemplificar vamos criar dois conjuntos:"
   ]
  },
  {
   "cell_type": "code",
   "execution_count": 6,
   "id": "e15a5ffd",
   "metadata": {
    "ExecuteTime": {
     "end_time": "2021-09-13T12:40:06.970516Z",
     "start_time": "2021-09-13T12:40:06.939477Z"
    }
   },
   "outputs": [],
   "source": [
    "mult_2 = {0, 2, 4, 6, 8, 10, 12}\n",
    "mult_3 = {0, 3, 6, 9, 12}"
   ]
  },
  {
   "cell_type": "markdown",
   "id": "29229cd0",
   "metadata": {},
   "source": [
    "### União"
   ]
  },
  {
   "cell_type": "code",
   "execution_count": 9,
   "id": "6f078c3f",
   "metadata": {
    "ExecuteTime": {
     "end_time": "2021-09-13T12:46:30.752480Z",
     "start_time": "2021-09-13T12:46:30.715038Z"
    }
   },
   "outputs": [
    {
     "data": {
      "text/plain": [
       "{0, 2, 3, 4, 6, 8, 9, 10, 12}"
      ]
     },
     "execution_count": 9,
     "metadata": {},
     "output_type": "execute_result"
    }
   ],
   "source": [
    "mult_2.union(mult_3)"
   ]
  },
  {
   "cell_type": "markdown",
   "id": "772f7da8",
   "metadata": {},
   "source": [
    "### Interseção"
   ]
  },
  {
   "cell_type": "code",
   "execution_count": 10,
   "id": "5eb5471e",
   "metadata": {
    "ExecuteTime": {
     "end_time": "2021-09-13T12:51:06.783930Z",
     "start_time": "2021-09-13T12:51:06.768317Z"
    }
   },
   "outputs": [
    {
     "data": {
      "text/plain": [
       "{0, 6, 12}"
      ]
     },
     "execution_count": 10,
     "metadata": {},
     "output_type": "execute_result"
    }
   ],
   "source": [
    "mult_2.intersection(mult_3)"
   ]
  },
  {
   "cell_type": "markdown",
   "id": "163a9642",
   "metadata": {
    "ExecuteTime": {
     "end_time": "2021-09-13T12:45:24.961488Z",
     "start_time": "2021-09-13T12:45:24.946245Z"
    }
   },
   "source": [
    "### Diferença (Elementos que estão em mult_2 mas não em mult_3)"
   ]
  },
  {
   "cell_type": "code",
   "execution_count": 11,
   "id": "40421d30",
   "metadata": {
    "ExecuteTime": {
     "end_time": "2021-09-13T12:51:59.473966Z",
     "start_time": "2021-09-13T12:51:59.451827Z"
    }
   },
   "outputs": [
    {
     "data": {
      "text/plain": [
       "{2, 4, 8, 10}"
      ]
     },
     "execution_count": 11,
     "metadata": {},
     "output_type": "execute_result"
    }
   ],
   "source": [
    "mult_2.difference(mult_3)"
   ]
  },
  {
   "cell_type": "markdown",
   "id": "3494efec",
   "metadata": {
    "ExecuteTime": {
     "end_time": "2021-09-13T12:45:58.102977Z",
     "start_time": "2021-09-13T12:45:58.072116Z"
    }
   },
   "source": [
    "### Diferença (Elementos que estão em mult_3 mas não em mult_2)"
   ]
  },
  {
   "cell_type": "code",
   "execution_count": 12,
   "id": "090bdb10",
   "metadata": {
    "ExecuteTime": {
     "end_time": "2021-09-13T12:54:59.189460Z",
     "start_time": "2021-09-13T12:54:59.158579Z"
    }
   },
   "outputs": [
    {
     "data": {
      "text/plain": [
       "{3, 9}"
      ]
     },
     "execution_count": 12,
     "metadata": {},
     "output_type": "execute_result"
    }
   ],
   "source": [
    "mult_3.difference(mult_2)"
   ]
  },
  {
   "cell_type": "markdown",
   "id": "c197d491",
   "metadata": {},
   "source": [
    "### Subconjunto"
   ]
  },
  {
   "cell_type": "code",
   "execution_count": 13,
   "id": "37359621",
   "metadata": {
    "ExecuteTime": {
     "end_time": "2021-09-13T13:08:37.033024Z",
     "start_time": "2021-09-13T13:08:37.017433Z"
    }
   },
   "outputs": [],
   "source": [
    "sub_1 = mult_3.difference(mult_2)"
   ]
  },
  {
   "cell_type": "code",
   "execution_count": 14,
   "id": "692b4ec4",
   "metadata": {
    "ExecuteTime": {
     "end_time": "2021-09-13T13:09:02.659291Z",
     "start_time": "2021-09-13T13:09:02.628381Z"
    }
   },
   "outputs": [
    {
     "data": {
      "text/plain": [
       "True"
      ]
     },
     "execution_count": 14,
     "metadata": {},
     "output_type": "execute_result"
    }
   ],
   "source": [
    "sub_1<= mult_3 ## está contido"
   ]
  },
  {
   "cell_type": "code",
   "execution_count": 15,
   "id": "5e30c945",
   "metadata": {
    "ExecuteTime": {
     "end_time": "2021-09-13T13:09:38.400363Z",
     "start_time": "2021-09-13T13:09:38.384745Z"
    }
   },
   "outputs": [
    {
     "data": {
      "text/plain": [
       "False"
      ]
     },
     "execution_count": 15,
     "metadata": {},
     "output_type": "execute_result"
    }
   ],
   "source": [
    "sub_1<=mult_2 ## não está contido"
   ]
  },
  {
   "cell_type": "code",
   "execution_count": null,
   "id": "3f017808",
   "metadata": {},
   "outputs": [],
   "source": []
  }
 ],
 "metadata": {
  "hide_input": false,
  "kernelspec": {
   "display_name": "Python 3",
   "language": "python",
   "name": "python3"
  },
  "language_info": {
   "codemirror_mode": {
    "name": "ipython",
    "version": 3
   },
   "file_extension": ".py",
   "mimetype": "text/x-python",
   "name": "python",
   "nbconvert_exporter": "python",
   "pygments_lexer": "ipython3",
   "version": "3.8.8"
  },
  "toc": {
   "base_numbering": 1,
   "nav_menu": {},
   "number_sections": true,
   "sideBar": true,
   "skip_h1_title": true,
   "title_cell": "Table of Contents",
   "title_sidebar": "Contents",
   "toc_cell": false,
   "toc_position": {},
   "toc_section_display": true,
   "toc_window_display": true
  },
  "varInspector": {
   "cols": {
    "lenName": 16,
    "lenType": 16,
    "lenVar": 40
   },
   "kernels_config": {
    "python": {
     "delete_cmd_postfix": "",
     "delete_cmd_prefix": "del ",
     "library": "var_list.py",
     "varRefreshCmd": "print(var_dic_list())"
    },
    "r": {
     "delete_cmd_postfix": ") ",
     "delete_cmd_prefix": "rm(",
     "library": "var_list.r",
     "varRefreshCmd": "cat(var_dic_list()) "
    }
   },
   "types_to_exclude": [
    "module",
    "function",
    "builtin_function_or_method",
    "instance",
    "_Feature"
   ],
   "window_display": false
  }
 },
 "nbformat": 4,
 "nbformat_minor": 5
}

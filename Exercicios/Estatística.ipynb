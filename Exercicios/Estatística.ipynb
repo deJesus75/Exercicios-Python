{
 "cells": [
  {
   "cell_type": "markdown",
   "id": "3c7c8488",
   "metadata": {},
   "source": [
    "# Estatistica"
   ]
  },
  {
   "cell_type": "markdown",
   "id": "bad89e0e",
   "metadata": {},
   "source": [
    "## Média"
   ]
  },
  {
   "cell_type": "code",
   "execution_count": 2,
   "id": "ba8e3b0d",
   "metadata": {
    "ExecuteTime": {
     "end_time": "2021-09-01T01:13:03.173577Z",
     "start_time": "2021-09-01T01:13:03.162606Z"
    }
   },
   "outputs": [],
   "source": [
    "def mean(x):\n",
    "    return sum (x)/len(x)"
   ]
  },
  {
   "cell_type": "code",
   "execution_count": 5,
   "id": "cb22f386",
   "metadata": {
    "ExecuteTime": {
     "end_time": "2021-09-01T01:15:19.273185Z",
     "start_time": "2021-09-01T01:15:19.261218Z"
    }
   },
   "outputs": [],
   "source": [
    "### Exemplo\n",
    "x =[x_i for x_i in range(0,101)]"
   ]
  },
  {
   "cell_type": "code",
   "execution_count": 6,
   "id": "ea6e8528",
   "metadata": {
    "ExecuteTime": {
     "end_time": "2021-09-01T01:15:21.151785Z",
     "start_time": "2021-09-01T01:15:21.136823Z"
    }
   },
   "outputs": [
    {
     "data": {
      "text/plain": [
       "50.0"
      ]
     },
     "execution_count": 6,
     "metadata": {},
     "output_type": "execute_result"
    }
   ],
   "source": [
    "mean(x)"
   ]
  },
  {
   "cell_type": "markdown",
   "id": "43db2ac0",
   "metadata": {},
   "source": [
    "## Mediana"
   ]
  },
  {
   "cell_type": "code",
   "execution_count": 9,
   "id": "11fde3e8",
   "metadata": {
    "ExecuteTime": {
     "end_time": "2021-09-01T01:22:47.051139Z",
     "start_time": "2021-09-01T01:22:47.030169Z"
    }
   },
   "outputs": [],
   "source": [
    "def median(v):\n",
    "    n=len(v)\n",
    "    sorted_v=sorted(v)#ordena a lista\n",
    "    midpoint=n//2\n",
    "    if n%2==1:\n",
    "        #se for impar\n",
    "        return sorted_v[midpoint]\n",
    "    else:\n",
    "        lo = midpoint-1\n",
    "        hi=midpoint\n",
    "        return (sorted_v[lo]+sorted_v[hi])/2\n",
    "        "
   ]
  },
  {
   "cell_type": "code",
   "execution_count": 10,
   "id": "7a8c5773",
   "metadata": {
    "ExecuteTime": {
     "end_time": "2021-09-01T01:22:49.429483Z",
     "start_time": "2021-09-01T01:22:49.413526Z"
    }
   },
   "outputs": [
    {
     "data": {
      "text/plain": [
       "50"
      ]
     },
     "execution_count": 10,
     "metadata": {},
     "output_type": "execute_result"
    }
   ],
   "source": [
    "median(x)"
   ]
  },
  {
   "cell_type": "markdown",
   "id": "65697ad9",
   "metadata": {},
   "source": [
    "## Quantil"
   ]
  },
  {
   "cell_type": "code",
   "execution_count": 11,
   "id": "192cea75",
   "metadata": {
    "ExecuteTime": {
     "end_time": "2021-09-01T01:34:28.477172Z",
     "start_time": "2021-09-01T01:34:28.463178Z"
    }
   },
   "outputs": [],
   "source": [
    "def quantile(x,p):\n",
    "    p_index=int(p*len(x))\n",
    "    return sorted(x)[p_index]"
   ]
  },
  {
   "cell_type": "code",
   "execution_count": 13,
   "id": "ad19d23a",
   "metadata": {
    "ExecuteTime": {
     "end_time": "2021-09-01T01:38:50.290144Z",
     "start_time": "2021-09-01T01:38:50.278174Z"
    }
   },
   "outputs": [
    {
     "name": "stdout",
     "output_type": "stream",
     "text": [
      "0\n",
      "25\n",
      "50\n",
      "75\n",
      "10\n"
     ]
    }
   ],
   "source": [
    "print(quantile(x,0.0))\n",
    "print(quantile(x,0.25))\n",
    "print(quantile(x,0.50))\n",
    "print(quantile(x,0.75))\n",
    "print(quantile(x,0.1))"
   ]
  },
  {
   "cell_type": "code",
   "execution_count": null,
   "id": "23748000",
   "metadata": {},
   "outputs": [],
   "source": []
  }
 ],
 "metadata": {
  "hide_input": false,
  "kernelspec": {
   "display_name": "Python 3",
   "language": "python",
   "name": "python3"
  },
  "language_info": {
   "codemirror_mode": {
    "name": "ipython",
    "version": 3
   },
   "file_extension": ".py",
   "mimetype": "text/x-python",
   "name": "python",
   "nbconvert_exporter": "python",
   "pygments_lexer": "ipython3",
   "version": "3.8.8"
  },
  "toc": {
   "base_numbering": 1,
   "nav_menu": {},
   "number_sections": true,
   "sideBar": true,
   "skip_h1_title": true,
   "title_cell": "Table of Contents",
   "title_sidebar": "Contents",
   "toc_cell": false,
   "toc_position": {
    "height": "calc(100% - 180px)",
    "left": "10px",
    "top": "150px",
    "width": "273.188px"
   },
   "toc_section_display": true,
   "toc_window_display": true
  },
  "varInspector": {
   "cols": {
    "lenName": 16,
    "lenType": 16,
    "lenVar": 40
   },
   "kernels_config": {
    "python": {
     "delete_cmd_postfix": "",
     "delete_cmd_prefix": "del ",
     "library": "var_list.py",
     "varRefreshCmd": "print(var_dic_list())"
    },
    "r": {
     "delete_cmd_postfix": ") ",
     "delete_cmd_prefix": "rm(",
     "library": "var_list.r",
     "varRefreshCmd": "cat(var_dic_list()) "
    }
   },
   "types_to_exclude": [
    "module",
    "function",
    "builtin_function_or_method",
    "instance",
    "_Feature"
   ],
   "window_display": false
  }
 },
 "nbformat": 4,
 "nbformat_minor": 5
}

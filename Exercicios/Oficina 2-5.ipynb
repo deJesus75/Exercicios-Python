{
 "cells": [
  {
   "cell_type": "code",
   "execution_count": 1,
   "id": "f7ce6c02",
   "metadata": {
    "ExecuteTime": {
     "end_time": "2021-09-25T04:34:55.216735Z",
     "start_time": "2021-09-25T04:34:55.194525Z"
    }
   },
   "outputs": [],
   "source": [
    "livro = {}\n",
    "livros = {}"
   ]
  },
  {
   "cell_type": "code",
   "execution_count": 2,
   "id": "dfc4b545",
   "metadata": {
    "ExecuteTime": {
     "end_time": "2021-09-25T04:34:57.625714Z",
     "start_time": "2021-09-25T04:34:57.587978Z"
    }
   },
   "outputs": [
    {
     "ename": "SyntaxError",
     "evalue": "invalid syntax (<ipython-input-2-ffa79173e9ea>, line 8)",
     "output_type": "error",
     "traceback": [
      "\u001b[1;36m  File \u001b[1;32m\"<ipython-input-2-ffa79173e9ea>\"\u001b[1;36m, line \u001b[1;32m8\u001b[0m\n\u001b[1;33m    if\u001b[0m\n\u001b[1;37m       ^\u001b[0m\n\u001b[1;31mSyntaxError\u001b[0m\u001b[1;31m:\u001b[0m invalid syntax\n"
     ]
    }
   ],
   "source": [
    "for x in range(5):\n",
    "    livro['titulo'] = input('Qual é o título do livro:')\n",
    "    livro['editora']= input('Qual é a editora:')\n",
    "    livro['qtd-copias']= input('Quantidade de livros:')\n",
    "    livro['valor']= input('Valor:')\n",
    "    subgenero = input('Subgenero:')\n",
    "    genero = input('Genero:')\n",
    "    if genero not in livros:\n",
    "        livros['genero']={}\n",
    "    else:\n",
    "        livros[genero]=\n",
    "        "
   ]
  },
  {
   "cell_type": "code",
   "execution_count": 10,
   "id": "db031667",
   "metadata": {
    "ExecuteTime": {
     "end_time": "2021-09-21T02:08:55.377830Z",
     "start_time": "2021-09-21T02:08:55.346604Z"
    }
   },
   "outputs": [
    {
     "data": {
      "text/plain": [
       "{'A.1': {'titulo': 'Inferno',\n",
       "  'editora': 'artica',\n",
       "  'qtd-copias': '100',\n",
       "  'valor': '200'},\n",
       " 'A.2': {'titulo': 'Inferno',\n",
       "  'editora': 'artica',\n",
       "  'qtd-copias': '100',\n",
       "  'valor': '200'}}"
      ]
     },
     "execution_count": 10,
     "metadata": {},
     "output_type": "execute_result"
    }
   ],
   "source": [
    "\n"
   ]
  },
  {
   "cell_type": "code",
   "execution_count": 11,
   "id": "8efc0420",
   "metadata": {
    "ExecuteTime": {
     "end_time": "2021-09-21T02:10:40.440635Z",
     "start_time": "2021-09-21T02:10:40.425055Z"
    }
   },
   "outputs": [],
   "source": [
    "genero['A']=subgenero"
   ]
  },
  {
   "cell_type": "code",
   "execution_count": 12,
   "id": "58de342f",
   "metadata": {
    "ExecuteTime": {
     "end_time": "2021-09-21T02:10:53.274155Z",
     "start_time": "2021-09-21T02:10:53.258533Z"
    }
   },
   "outputs": [
    {
     "data": {
      "text/plain": [
       "{'A': {'A.1': {'titulo': 'Inferno',\n",
       "   'editora': 'artica',\n",
       "   'qtd-copias': '100',\n",
       "   'valor': '200'},\n",
       "  'A.2': {'titulo': 'Inferno',\n",
       "   'editora': 'artica',\n",
       "   'qtd-copias': '100',\n",
       "   'valor': '200'}}}"
      ]
     },
     "execution_count": 12,
     "metadata": {},
     "output_type": "execute_result"
    }
   ],
   "source": [
    "genero\n"
   ]
  },
  {
   "cell_type": "code",
   "execution_count": null,
   "id": "e1b57ab5",
   "metadata": {},
   "outputs": [],
   "source": []
  }
 ],
 "metadata": {
  "hide_input": false,
  "kernelspec": {
   "display_name": "Python 3",
   "language": "python",
   "name": "python3"
  },
  "language_info": {
   "codemirror_mode": {
    "name": "ipython",
    "version": 3
   },
   "file_extension": ".py",
   "mimetype": "text/x-python",
   "name": "python",
   "nbconvert_exporter": "python",
   "pygments_lexer": "ipython3",
   "version": "3.8.8"
  },
  "toc": {
   "base_numbering": 1,
   "nav_menu": {},
   "number_sections": true,
   "sideBar": true,
   "skip_h1_title": true,
   "title_cell": "Table of Contents",
   "title_sidebar": "Contents",
   "toc_cell": false,
   "toc_position": {},
   "toc_section_display": true,
   "toc_window_display": false
  },
  "varInspector": {
   "cols": {
    "lenName": 16,
    "lenType": 16,
    "lenVar": 40
   },
   "kernels_config": {
    "python": {
     "delete_cmd_postfix": "",
     "delete_cmd_prefix": "del ",
     "library": "var_list.py",
     "varRefreshCmd": "print(var_dic_list())"
    },
    "r": {
     "delete_cmd_postfix": ") ",
     "delete_cmd_prefix": "rm(",
     "library": "var_list.r",
     "varRefreshCmd": "cat(var_dic_list()) "
    }
   },
   "types_to_exclude": [
    "module",
    "function",
    "builtin_function_or_method",
    "instance",
    "_Feature"
   ],
   "window_display": false
  }
 },
 "nbformat": 4,
 "nbformat_minor": 5
}

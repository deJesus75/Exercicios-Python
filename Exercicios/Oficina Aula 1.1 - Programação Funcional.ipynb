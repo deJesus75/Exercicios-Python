{
 "cells": [
  {
   "cell_type": "markdown",
   "id": "f8264ab3",
   "metadata": {},
   "source": [
    "\n",
    "## Oficina Aula 1.1\n",
    "\n",
    "Depois de aprender bastante sobre programação funcional nesta aula, chegou o momento de colocar seus conhecimentos em prática para resolver o problema proposto nesta oficina. Para isso, imagine o seguinte caso:\n",
    "\n",
    "Você foi chamado para trabalhar como novo programador Python para o aplicativo Spotify, analisando as avaliações de músicas pelos usuários. O seu chefe está muito entusiasmado com a sua chegada e já pensou em várias perguntas para você responder. Ele coletou diversas avaliações dos gêneros musicais Rock e Pop.\n",
    "\n",
    "Em cada avaliação o usuário pode dar uma nota em quantidade de estrelas para uma música, de 1 a 5. Ele quer que você mapeie as avaliações numéricas em categorias: entre 0 e 1 estrelas é uma música ruim, entre 2 e 3 é uma música mediana e entre 4 e 5 são para as músicas boas. O seu papel é dizer para o seu chefe quantas músicas ruins, medianas e boas existem para cada gênero: Rock e Pop.\n",
    "\n",
    "Além disso, ele quer saber se existe alguma música mediana de Rock e se todas as músicas de Pop são boas. Por fim, quer saber qual gênero musical teve uma maior quantidade de músicas boas. Abaixo seguem as notas de cada gênero.\n",
    "\n",
    "notas_rock = [5, 1, 4, 0, 2, 5, 2, 1, 0, 5, 5, 3, 5, 2, 5, 5, 3, 5, 4, 4]\n",
    "notas_pop = [3, 2, 5, 1, 2, 1, 4, 1, 5, 0, 4, 2, 1, 2, 5, 2, 4, 4, 0, 1]\n",
    "\n",
    "Pronto, com essas informações você pode começar a desenvolver um programa em Python capaz de responder as perguntas do seu chefe.\n",
    "\n",
    "Boa prática!\n"
   ]
  },
  {
   "cell_type": "code",
   "execution_count": 7,
   "id": "18ca38b1",
   "metadata": {
    "ExecuteTime": {
     "end_time": "2021-10-12T19:12:12.412984Z",
     "start_time": "2021-10-12T19:12:12.390801Z"
    }
   },
   "outputs": [],
   "source": [
    "notas_rock = [5, 1, 4, 0, 2, 5, 2, 1, 0, 5, 5, 3, 5, 2, 5, 5, 3, 5, 4, 4]\n",
    "notas_pop = [3, 2, 5, 1, 2, 1, 4, 1, 5, 0, 4, 2, 1, 2, 5, 2, 4, 4, 0, 1]\n",
    "\n",
    "ruim_rock = list(filter(lambda x : x<=1, notas_rock))\n",
    "ruim_pop = list(filter(lambda x : x<=1, notas_pop))\n",
    "mediana_rock = list(filter(lambda x : x<=3 and x>=2, notas_rock))\n",
    "mediana_pop = list(filter(lambda x : x<=3 and x>=2, notas_pop))\n",
    "boa_rock = list(filter(lambda x : x>=4, notas_rock))\n",
    "boa_pop = list(filter(lambda x : x>=4, notas_pop))"
   ]
  },
  {
   "cell_type": "code",
   "execution_count": 12,
   "id": "07e9f083",
   "metadata": {
    "ExecuteTime": {
     "end_time": "2021-10-12T19:20:55.018254Z",
     "start_time": "2021-10-12T19:20:54.986973Z"
    }
   },
   "outputs": [
    {
     "name": "stdout",
     "output_type": "stream",
     "text": [
      "há 4 musícas  ruins, 5 medianas e 11 boas para o genero rock\n",
      "há 7 musícas  ruins, 6 medianas e 7 boas para o genero pop\n"
     ]
    }
   ],
   "source": [
    "print(f'há {len(ruim_rock)} musícas  ruins, {len(mediana_rock)} medianas e {len(boa_rock)} boas para o genero rock')\n",
    "print(f'há {len(ruim_pop)} musícas  ruins, {len(mediana_pop)} medianas e {len(boa_pop)} boas para o genero pop')"
   ]
  },
  {
   "cell_type": "code",
   "execution_count": null,
   "id": "8d030e48",
   "metadata": {},
   "outputs": [],
   "source": []
  }
 ],
 "metadata": {
  "hide_input": false,
  "kernelspec": {
   "display_name": "Python 3",
   "language": "python",
   "name": "python3"
  },
  "language_info": {
   "codemirror_mode": {
    "name": "ipython",
    "version": 3
   },
   "file_extension": ".py",
   "mimetype": "text/x-python",
   "name": "python",
   "nbconvert_exporter": "python",
   "pygments_lexer": "ipython3",
   "version": "3.8.8"
  },
  "toc": {
   "base_numbering": 1,
   "nav_menu": {},
   "number_sections": true,
   "sideBar": true,
   "skip_h1_title": true,
   "title_cell": "Table of Contents",
   "title_sidebar": "Contents",
   "toc_cell": false,
   "toc_position": {},
   "toc_section_display": true,
   "toc_window_display": false
  },
  "varInspector": {
   "cols": {
    "lenName": 16,
    "lenType": 16,
    "lenVar": 40
   },
   "kernels_config": {
    "python": {
     "delete_cmd_postfix": "",
     "delete_cmd_prefix": "del ",
     "library": "var_list.py",
     "varRefreshCmd": "print(var_dic_list())"
    },
    "r": {
     "delete_cmd_postfix": ") ",
     "delete_cmd_prefix": "rm(",
     "library": "var_list.r",
     "varRefreshCmd": "cat(var_dic_list()) "
    }
   },
   "types_to_exclude": [
    "module",
    "function",
    "builtin_function_or_method",
    "instance",
    "_Feature"
   ],
   "window_display": false
  }
 },
 "nbformat": 4,
 "nbformat_minor": 5
}

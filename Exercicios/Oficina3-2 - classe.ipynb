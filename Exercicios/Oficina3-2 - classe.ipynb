{
 "cells": [
  {
   "cell_type": "code",
   "execution_count": 2,
   "id": "ebaf27b7",
   "metadata": {
    "ExecuteTime": {
     "end_time": "2021-09-26T18:28:41.556410Z",
     "start_time": "2021-09-26T18:28:41.525395Z"
    }
   },
   "outputs": [],
   "source": [
    "class Animal:\n",
    "    def __init__(self,nome=\"\",especie=\"\",fome=0):\n",
    "        self.nome=nome\n",
    "        self.especie=especie\n",
    "        self.fome=fome\n",
    "    def __str__(self):\n",
    "        return 'Nome = {} , Especie = {}, Fome = {}'.format(self.nome,self.especie,self.fome)\n",
    "    def andar(self):\n",
    "        self.fome+=1\n",
    "    def comer(self, alimento):\n",
    "        if alimento>self.fome:\n",
    "            self.fome=0\n",
    "            print('Comida demais')\n",
    "        else:\n",
    "            self.fome-=alimento\n",
    "        "
   ]
  },
  {
   "cell_type": "code",
   "execution_count": 4,
   "id": "447452de",
   "metadata": {
    "ExecuteTime": {
     "end_time": "2021-09-26T18:30:57.510950Z",
     "start_time": "2021-09-26T18:30:57.495328Z"
    }
   },
   "outputs": [
    {
     "name": "stdout",
     "output_type": "stream",
     "text": [
      "Nome = Ze , Especie = felino, Fome = 0\n"
     ]
    }
   ],
   "source": [
    "bexano=Animal('Ze','felino')\n",
    "print(bexano)"
   ]
  },
  {
   "cell_type": "code",
   "execution_count": null,
   "id": "92098118",
   "metadata": {
    "ExecuteTime": {
     "start_time": "2021-09-26T18:47:16.759Z"
    }
   },
   "outputs": [
    {
     "name": "stdout",
     "output_type": "stream",
     "text": [
      "\n",
      "Opções 1:Alimentar 2:Andar 3:Estado 4:Sair \n",
      "Digite uma opção [1 a 4]:2\n",
      "\n",
      "Opções 1:Alimentar 2:Andar 3:Estado 4:Sair \n",
      "Digite uma opção [1 a 4]:3\n",
      "Nome = Ze , Especie = felino, Fome = 2\n",
      "\n",
      "Opções 1:Alimentar 2:Andar 3:Estado 4:Sair \n",
      "Digite uma opção [1 a 4]:2\n",
      "\n",
      "Opções 1:Alimentar 2:Andar 3:Estado 4:Sair \n",
      "Digite uma opção [1 a 4]:3\n",
      "Nome = Ze , Especie = felino, Fome = 3\n",
      "\n",
      "Opções 1:Alimentar 2:Andar 3:Estado 4:Sair \n",
      "Digite uma opção [1 a 4]:2\n",
      "\n",
      "Opções 1:Alimentar 2:Andar 3:Estado 4:Sair \n",
      "Digite uma opção [1 a 4]:1\n",
      "Digite o valor do alimento[de 1 a 10]:2\n",
      "Nome = Ze , Especie = felino, Fome = 2\n",
      "\n",
      "Opções 1:Alimentar 2:Andar 3:Estado 4:Sair \n",
      "Digite uma opção [1 a 4]:1\n",
      "Digite o valor do alimento[de 1 a 10]:4\n",
      "Comida demais\n",
      "Nome = Ze , Especie = felino, Fome = 0\n",
      "\n",
      "Opções 1:Alimentar 2:Andar 3:Estado 4:Sair \n"
     ]
    }
   ],
   "source": [
    "op = 0\n",
    "while op!=4:\n",
    "    print()\n",
    "    print('Opções 1:Alimentar 2:Andar 3:Estado 4:Sair ')\n",
    "    op = int(input('Digite uma opção [1 a 4]:'))\n",
    "    if op == 1:\n",
    "        alimento = int(input('Digite o valor do alimento[de 1 a 10]:'))\n",
    "        bexano.comer(alimento)\n",
    "        print(bexano)\n",
    "        \n",
    "    if op==2:\n",
    "        bexano.andar()\n",
    "        \n",
    "        \n",
    "    if op==3:\n",
    "        print(bexano)\n",
    "        \n",
    "    "
   ]
  },
  {
   "cell_type": "code",
   "execution_count": null,
   "id": "593ca091",
   "metadata": {},
   "outputs": [],
   "source": []
  }
 ],
 "metadata": {
  "hide_input": false,
  "kernelspec": {
   "display_name": "Python 3",
   "language": "python",
   "name": "python3"
  },
  "language_info": {
   "codemirror_mode": {
    "name": "ipython",
    "version": 3
   },
   "file_extension": ".py",
   "mimetype": "text/x-python",
   "name": "python",
   "nbconvert_exporter": "python",
   "pygments_lexer": "ipython3",
   "version": "3.8.8"
  },
  "toc": {
   "base_numbering": 1,
   "nav_menu": {},
   "number_sections": true,
   "sideBar": true,
   "skip_h1_title": true,
   "title_cell": "Table of Contents",
   "title_sidebar": "Contents",
   "toc_cell": false,
   "toc_position": {},
   "toc_section_display": true,
   "toc_window_display": false
  },
  "varInspector": {
   "cols": {
    "lenName": 16,
    "lenType": 16,
    "lenVar": 40
   },
   "kernels_config": {
    "python": {
     "delete_cmd_postfix": "",
     "delete_cmd_prefix": "del ",
     "library": "var_list.py",
     "varRefreshCmd": "print(var_dic_list())"
    },
    "r": {
     "delete_cmd_postfix": ") ",
     "delete_cmd_prefix": "rm(",
     "library": "var_list.r",
     "varRefreshCmd": "cat(var_dic_list()) "
    }
   },
   "types_to_exclude": [
    "module",
    "function",
    "builtin_function_or_method",
    "instance",
    "_Feature"
   ],
   "window_display": false
  }
 },
 "nbformat": 4,
 "nbformat_minor": 5
}

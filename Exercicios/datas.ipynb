{
 "cells": [
  {
   "cell_type": "code",
   "execution_count": 1,
   "id": "bb031d63",
   "metadata": {
    "ExecuteTime": {
     "end_time": "2021-10-22T01:05:09.169601Z",
     "start_time": "2021-10-22T01:05:09.139622Z"
    }
   },
   "outputs": [],
   "source": [
    "from datetime import date , timedelta,datetime\n"
   ]
  },
  {
   "cell_type": "code",
   "execution_count": 2,
   "id": "ef7ea1c0",
   "metadata": {
    "ExecuteTime": {
     "end_time": "2021-10-22T01:05:14.419777Z",
     "start_time": "2021-10-22T01:05:10.532552Z"
    }
   },
   "outputs": [
    {
     "name": "stdout",
     "output_type": "stream",
     "text": [
      "Digite a quantidade de dias: 15\n",
      "Daqui 15 dias será 5/11/2021\n"
     ]
    }
   ],
   "source": [
    "hoje = datetime.now()\n",
    "dias= int(input('Digite a quantidade de dias: '))\n",
    "intervalo = timedelta(days=dias)\n",
    "futuro=hoje+intervalo\n",
    "print(f'Daqui {dias} dias será {futuro.day}/{futuro.month}/{futuro.year}')"
   ]
  },
  {
   "cell_type": "code",
   "execution_count": 26,
   "id": "da7f3456",
   "metadata": {
    "ExecuteTime": {
     "end_time": "2021-10-22T01:45:32.756949Z",
     "start_time": "2021-10-22T01:45:14.296774Z"
    }
   },
   "outputs": [
    {
     "name": "stdout",
     "output_type": "stream",
     "text": [
      "Digite um ano:2020\n",
      "Digite um mes:8\n",
      "Digite um dia:20\n"
     ]
    }
   ],
   "source": [
    "ano = int(input(\"Digite um ano:\"))\n",
    "mes = int(input(\"Digite um mes:\"))\n",
    "dia = int(input(\"Digite um dia:\"))"
   ]
  },
  {
   "cell_type": "code",
   "execution_count": 27,
   "id": "2fff08bf",
   "metadata": {
    "ExecuteTime": {
     "end_time": "2021-10-22T01:45:35.456772Z",
     "start_time": "2021-10-22T01:45:35.447205Z"
    }
   },
   "outputs": [],
   "source": [
    "d1 = datetime(ano,mes,dia)"
   ]
  },
  {
   "cell_type": "code",
   "execution_count": 40,
   "id": "096243e6",
   "metadata": {
    "ExecuteTime": {
     "end_time": "2021-10-22T02:00:48.094747Z",
     "start_time": "2021-10-22T02:00:48.064623Z"
    }
   },
   "outputs": [],
   "source": [
    "diff = hoje-d1\n",
    "days = diff.days\n",
    "years, days = days // 365, days % 365\n",
    "months, days = days // 30, days % 30\n",
    "seconds = diff.seconds\n",
    "hours, seconds = seconds // 3600, seconds % 3600\n",
    "minutes, seconds = seconds // 60, seconds % 60"
   ]
  },
  {
   "cell_type": "code",
   "execution_count": 41,
   "id": "2fef5f28",
   "metadata": {
    "ExecuteTime": {
     "end_time": "2021-10-22T02:01:27.659674Z",
     "start_time": "2021-10-22T02:01:27.634499Z"
    }
   },
   "outputs": [
    {
     "name": "stdout",
     "output_type": "stream",
     "text": [
      "passaram  1 aons,2 meses e 2 dias desde 20/8/2020 até hoje\n"
     ]
    }
   ],
   "source": [
    "print(f'passaram  {years} aons,{months} meses e {days} dias desde {d1.day}/{d1.month}/{d1.year} até hoje')"
   ]
  },
  {
   "cell_type": "code",
   "execution_count": null,
   "id": "0b044c47",
   "metadata": {},
   "outputs": [],
   "source": []
  }
 ],
 "metadata": {
  "hide_input": false,
  "kernelspec": {
   "display_name": "Python 3",
   "language": "python",
   "name": "python3"
  },
  "language_info": {
   "codemirror_mode": {
    "name": "ipython",
    "version": 3
   },
   "file_extension": ".py",
   "mimetype": "text/x-python",
   "name": "python",
   "nbconvert_exporter": "python",
   "pygments_lexer": "ipython3",
   "version": "3.8.8"
  },
  "toc": {
   "base_numbering": 1,
   "nav_menu": {},
   "number_sections": true,
   "sideBar": true,
   "skip_h1_title": true,
   "title_cell": "Table of Contents",
   "title_sidebar": "Contents",
   "toc_cell": false,
   "toc_position": {},
   "toc_section_display": true,
   "toc_window_display": false
  },
  "varInspector": {
   "cols": {
    "lenName": 16,
    "lenType": 16,
    "lenVar": 40
   },
   "kernels_config": {
    "python": {
     "delete_cmd_postfix": "",
     "delete_cmd_prefix": "del ",
     "library": "var_list.py",
     "varRefreshCmd": "print(var_dic_list())"
    },
    "r": {
     "delete_cmd_postfix": ") ",
     "delete_cmd_prefix": "rm(",
     "library": "var_list.r",
     "varRefreshCmd": "cat(var_dic_list()) "
    }
   },
   "types_to_exclude": [
    "module",
    "function",
    "builtin_function_or_method",
    "instance",
    "_Feature"
   ],
   "window_display": false
  }
 },
 "nbformat": 4,
 "nbformat_minor": 5
}
